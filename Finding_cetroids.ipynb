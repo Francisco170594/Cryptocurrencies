{
 "cells": [
  {
   "cell_type": "code",
   "execution_count": 15,
   "id": "04a60948",
   "metadata": {},
   "outputs": [],
   "source": [
    "# Initial imports\n",
    "import pandas as pd\n",
    "from sklearn.cluster import KMeans\n",
    "import plotly.express as px\n",
    "import hvplot.pandas"
   ]
  },
  {
   "cell_type": "code",
   "execution_count": 16,
   "id": "f668bbcb",
   "metadata": {},
   "outputs": [
    {
     "data": {
      "text/html": [
       "<div>\n",
       "<style scoped>\n",
       "    .dataframe tbody tr th:only-of-type {\n",
       "        vertical-align: middle;\n",
       "    }\n",
       "\n",
       "    .dataframe tbody tr th {\n",
       "        vertical-align: top;\n",
       "    }\n",
       "\n",
       "    .dataframe thead th {\n",
       "        text-align: right;\n",
       "    }\n",
       "</style>\n",
       "<table border=\"1\" class=\"dataframe\">\n",
       "  <thead>\n",
       "    <tr style=\"text-align: right;\">\n",
       "      <th></th>\n",
       "      <th>CardMember</th>\n",
       "      <th>Age</th>\n",
       "      <th>AnnualIncome</th>\n",
       "      <th>SpendingScore</th>\n",
       "    </tr>\n",
       "  </thead>\n",
       "  <tbody>\n",
       "    <tr>\n",
       "      <th>0</th>\n",
       "      <td>0</td>\n",
       "      <td>19.0</td>\n",
       "      <td>15000</td>\n",
       "      <td>39.0</td>\n",
       "    </tr>\n",
       "    <tr>\n",
       "      <th>1</th>\n",
       "      <td>0</td>\n",
       "      <td>21.0</td>\n",
       "      <td>15000</td>\n",
       "      <td>81.0</td>\n",
       "    </tr>\n",
       "    <tr>\n",
       "      <th>2</th>\n",
       "      <td>0</td>\n",
       "      <td>20.0</td>\n",
       "      <td>16000</td>\n",
       "      <td>6.0</td>\n",
       "    </tr>\n",
       "    <tr>\n",
       "      <th>3</th>\n",
       "      <td>0</td>\n",
       "      <td>23.0</td>\n",
       "      <td>16000</td>\n",
       "      <td>77.0</td>\n",
       "    </tr>\n",
       "    <tr>\n",
       "      <th>4</th>\n",
       "      <td>0</td>\n",
       "      <td>31.0</td>\n",
       "      <td>17000</td>\n",
       "      <td>40.0</td>\n",
       "    </tr>\n",
       "    <tr>\n",
       "      <th>5</th>\n",
       "      <td>0</td>\n",
       "      <td>22.0</td>\n",
       "      <td>17000</td>\n",
       "      <td>76.0</td>\n",
       "    </tr>\n",
       "    <tr>\n",
       "      <th>6</th>\n",
       "      <td>0</td>\n",
       "      <td>35.0</td>\n",
       "      <td>18000</td>\n",
       "      <td>6.0</td>\n",
       "    </tr>\n",
       "    <tr>\n",
       "      <th>7</th>\n",
       "      <td>0</td>\n",
       "      <td>23.0</td>\n",
       "      <td>18000</td>\n",
       "      <td>94.0</td>\n",
       "    </tr>\n",
       "    <tr>\n",
       "      <th>8</th>\n",
       "      <td>0</td>\n",
       "      <td>64.0</td>\n",
       "      <td>19000</td>\n",
       "      <td>3.0</td>\n",
       "    </tr>\n",
       "    <tr>\n",
       "      <th>9</th>\n",
       "      <td>0</td>\n",
       "      <td>30.0</td>\n",
       "      <td>19000</td>\n",
       "      <td>72.0</td>\n",
       "    </tr>\n",
       "  </tbody>\n",
       "</table>\n",
       "</div>"
      ],
      "text/plain": [
       "   CardMember   Age  AnnualIncome  SpendingScore\n",
       "0           0  19.0         15000           39.0\n",
       "1           0  21.0         15000           81.0\n",
       "2           0  20.0         16000            6.0\n",
       "3           0  23.0         16000           77.0\n",
       "4           0  31.0         17000           40.0\n",
       "5           0  22.0         17000           76.0\n",
       "6           0  35.0         18000            6.0\n",
       "7           0  23.0         18000           94.0\n",
       "8           0  64.0         19000            3.0\n",
       "9           0  30.0         19000           72.0"
      ]
     },
     "execution_count": 16,
     "metadata": {},
     "output_type": "execute_result"
    }
   ],
   "source": [
    "# Load data\n",
    "file_path = \"shopping_data_cleaned.csv\"\n",
    "df_shopping = pd.read_csv(file_path)\n",
    "df_shopping.head(10)"
   ]
  },
  {
   "cell_type": "code",
   "execution_count": 17,
   "id": "1d950097",
   "metadata": {},
   "outputs": [
    {
     "data": {},
     "metadata": {},
     "output_type": "display_data"
    },
    {
     "data": {
      "application/vnd.holoviews_exec.v0+json": "",
      "text/html": [
       "<div id='1124'>\n",
       "\n",
       "\n",
       "\n",
       "\n",
       "\n",
       "  <div class=\"bk-root\" id=\"5cfe127e-fa9c-4a30-a228-cb62fd26c1f7\" data-root-id=\"1124\"></div>\n",
       "</div>\n",
       "<script type=\"application/javascript\">(function(root) {\n",
       "  function embed_document(root) {\n",
       "    var docs_json = {\"5ddf4b19-ffe0-4d22-8e6d-d6c9c0bf52f1\":{\"defs\":[{\"extends\":null,\"module\":null,\"name\":\"ReactiveHTML1\",\"overrides\":[],\"properties\":[]},{\"extends\":null,\"module\":null,\"name\":\"FlexBox1\",\"overrides\":[],\"properties\":[{\"default\":\"flex-start\",\"kind\":null,\"name\":\"align_content\"},{\"default\":\"flex-start\",\"kind\":null,\"name\":\"align_items\"},{\"default\":\"row\",\"kind\":null,\"name\":\"flex_direction\"},{\"default\":\"wrap\",\"kind\":null,\"name\":\"flex_wrap\"},{\"default\":\"flex-start\",\"kind\":null,\"name\":\"justify_content\"}]},{\"extends\":null,\"module\":null,\"name\":\"TemplateActions1\",\"overrides\":[],\"properties\":[{\"default\":0,\"kind\":null,\"name\":\"open_modal\"},{\"default\":0,\"kind\":null,\"name\":\"close_modal\"}]},{\"extends\":null,\"module\":null,\"name\":\"MaterialTemplateActions1\",\"overrides\":[],\"properties\":[{\"default\":0,\"kind\":null,\"name\":\"open_modal\"},{\"default\":0,\"kind\":null,\"name\":\"close_modal\"}]}],\"roots\":{\"references\":[{\"attributes\":{},\"id\":\"1147\",\"type\":\"PanTool\"},{\"attributes\":{},\"id\":\"1150\",\"type\":\"ResetTool\"},{\"attributes\":{},\"id\":\"1148\",\"type\":\"WheelZoomTool\"},{\"attributes\":{\"source\":{\"id\":\"1159\"}},\"id\":\"1166\",\"type\":\"CDSView\"},{\"attributes\":{\"overlay\":{\"id\":\"1151\"}},\"id\":\"1149\",\"type\":\"BoxZoomTool\"},{\"attributes\":{\"axis\":{\"id\":\"1138\"},\"grid_line_color\":null,\"ticker\":null},\"id\":\"1141\",\"type\":\"Grid\"},{\"attributes\":{},\"id\":\"1172\",\"type\":\"BasicTickFormatter\"},{\"attributes\":{},\"id\":\"1171\",\"type\":\"AllLabels\"},{\"attributes\":{\"data\":{\"AnnualIncome\":[15000,15000,16000,16000,17000,17000,18000,18000,19000,19000,19000,19000,20000,20000,20000,20000,21000,21000,23000,23000,24000,24000,25000,25000,28000,28000,28000,28000,29000,29000,30000,30000,33000,33000,33000,33000,34000,34000,37000,37000,38000,38000,39000,39000,39000,39000,40000,40000,40000,40000,42000,42000,43000,43000,43000,43000,44000,44000,46000,46000,46000,46000,47000,47000,48000,48000,48000,48000,48000,48000,49000,49000,50000,50000,54000,54000,54000,54000,54000,54000,54000,54000,54000,54000,54000,54000,57000,57000,58000,58000,59000,59000,60000,60000,60000,60000,60000,60000,61000,61000,62000,62000,62000,62000,62000,62000,63000,63000,63000,63000,63000,63000,64000,64000,65000,65000,65000,65000,67000,67000,67000,67000,69000,69000,70000,70000,71000,71000,71000,71000,71000,71000,72000,72000,73000,73000,73000,73000,74000,74000,75000,75000,76000,76000,77000,77000,77000,77000,78000,78000,78000,78000,78000,78000,78000,78000,78000,78000,78000,78000,79000,79000,81000,81000,85000,85000,86000,86000,87000,87000,87000,87000,87000,87000,87000,88000,88000,88000,88000,93000,93000,97000,97000,98000,98000,99000,99000,101000,101000,103000,103000,103000,103000,113000,113000,120000,120000,126000,126000,137000,137000],\"SpendingScore\":{\"__ndarray__\":\"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\",\"dtype\":\"float64\",\"order\":\"little\",\"shape\":[201]}},\"selected\":{\"id\":\"1160\"},\"selection_policy\":{\"id\":\"1181\"}},\"id\":\"1159\",\"type\":\"ColumnDataSource\"},{\"attributes\":{\"active_multi\":null,\"tools\":[{\"id\":\"1128\"},{\"id\":\"1146\"},{\"id\":\"1147\"},{\"id\":\"1148\"},{\"id\":\"1149\"},{\"id\":\"1150\"}]},\"id\":\"1152\",\"type\":\"Toolbar\"},{\"attributes\":{},\"id\":\"1139\",\"type\":\"BasicTicker\"},{\"attributes\":{\"text_color\":\"black\",\"text_font_size\":\"12pt\"},\"id\":\"1130\",\"type\":\"Title\"},{\"attributes\":{},\"id\":\"1134\",\"type\":\"LinearScale\"},{\"attributes\":{\"end\":142228.57142857142,\"reset_end\":142228.57142857142,\"reset_start\":9771.428571428572,\"start\":9771.428571428572,\"tags\":[[[\"AnnualIncome\",\"AnnualIncome\",null]]]},\"id\":\"1126\",\"type\":\"Range1d\"},{\"attributes\":{},\"id\":\"1136\",\"type\":\"LinearScale\"},{\"attributes\":{\"axis_label\":\"SpendingScore\",\"formatter\":{\"id\":\"1172\"},\"major_label_policy\":{\"id\":\"1171\"},\"ticker\":{\"id\":\"1143\"}},\"id\":\"1142\",\"type\":\"LinearAxis\"},{\"attributes\":{\"callback\":null,\"renderers\":[{\"id\":\"1165\"}],\"tags\":[\"hv_created\"],\"tooltips\":[[\"AnnualIncome\",\"@{AnnualIncome}\"],[\"SpendingScore\",\"@{SpendingScore}\"]]},\"id\":\"1128\",\"type\":\"HoverTool\"},{\"attributes\":{\"axis_label\":\"AnnualIncome\",\"formatter\":{\"id\":\"1169\"},\"major_label_policy\":{\"id\":\"1168\"},\"ticker\":{\"id\":\"1139\"}},\"id\":\"1138\",\"type\":\"LinearAxis\"},{\"attributes\":{},\"id\":\"1181\",\"type\":\"UnionRenderers\"},{\"attributes\":{\"below\":[{\"id\":\"1138\"}],\"center\":[{\"id\":\"1141\"},{\"id\":\"1145\"}],\"height\":300,\"left\":[{\"id\":\"1142\"}],\"margin\":[5,5,5,5],\"min_border_bottom\":10,\"min_border_left\":10,\"min_border_right\":10,\"min_border_top\":10,\"renderers\":[{\"id\":\"1165\"}],\"sizing_mode\":\"fixed\",\"title\":{\"id\":\"1130\"},\"toolbar\":{\"id\":\"1152\"},\"width\":700,\"x_range\":{\"id\":\"1126\"},\"x_scale\":{\"id\":\"1134\"},\"y_range\":{\"id\":\"1127\"},\"y_scale\":{\"id\":\"1136\"}},\"id\":\"1129\",\"subtype\":\"Figure\",\"type\":\"Plot\"},{\"attributes\":{},\"id\":\"1143\",\"type\":\"BasicTicker\"},{\"attributes\":{\"fill_color\":{\"value\":\"#30a2da\"},\"line_color\":{\"value\":\"#30a2da\"},\"size\":{\"value\":5.477225575051661},\"x\":{\"field\":\"AnnualIncome\"},\"y\":{\"field\":\"SpendingScore\"}},\"id\":\"1162\",\"type\":\"Scatter\"},{\"attributes\":{\"axis\":{\"id\":\"1142\"},\"dimension\":1,\"grid_line_color\":null,\"ticker\":null},\"id\":\"1145\",\"type\":\"Grid\"},{\"attributes\":{\"data_source\":{\"id\":\"1159\"},\"glyph\":{\"id\":\"1162\"},\"hover_glyph\":null,\"muted_glyph\":{\"id\":\"1164\"},\"nonselection_glyph\":{\"id\":\"1163\"},\"selection_glyph\":{\"id\":\"1167\"},\"view\":{\"id\":\"1166\"}},\"id\":\"1165\",\"type\":\"GlyphRenderer\"},{\"attributes\":{\"end\":108.8,\"reset_end\":108.8,\"reset_start\":-8.8,\"start\":-8.8,\"tags\":[[[\"SpendingScore\",\"SpendingScore\",null]]]},\"id\":\"1127\",\"type\":\"Range1d\"},{\"attributes\":{\"margin\":[5,5,5,5],\"name\":\"HSpacer01870\",\"sizing_mode\":\"stretch_width\"},\"id\":\"1125\",\"type\":\"Spacer\"},{\"attributes\":{},\"id\":\"1169\",\"type\":\"BasicTickFormatter\"},{\"attributes\":{\"children\":[{\"id\":\"1125\"},{\"id\":\"1129\"},{\"id\":\"1194\"}],\"margin\":[0,0,0,0],\"name\":\"Row01866\",\"tags\":[\"embedded\"]},\"id\":\"1124\",\"type\":\"Row\"},{\"attributes\":{\"fill_alpha\":{\"value\":0.1},\"fill_color\":{\"value\":\"#30a2da\"},\"line_alpha\":{\"value\":0.1},\"line_color\":{\"value\":\"#30a2da\"},\"size\":{\"value\":5.477225575051661},\"x\":{\"field\":\"AnnualIncome\"},\"y\":{\"field\":\"SpendingScore\"}},\"id\":\"1163\",\"type\":\"Scatter\"},{\"attributes\":{},\"id\":\"1160\",\"type\":\"Selection\"},{\"attributes\":{\"angle\":{\"value\":0.0},\"fill_alpha\":{\"value\":1.0},\"fill_color\":{\"value\":\"#30a2da\"},\"hatch_alpha\":{\"value\":1.0},\"hatch_color\":{\"value\":\"black\"},\"hatch_scale\":{\"value\":12.0},\"hatch_weight\":{\"value\":1.0},\"line_alpha\":{\"value\":1.0},\"line_cap\":{\"value\":\"butt\"},\"line_color\":{\"value\":\"#30a2da\"},\"line_dash\":{\"value\":[]},\"line_dash_offset\":{\"value\":0},\"line_join\":{\"value\":\"bevel\"},\"line_width\":{\"value\":1},\"marker\":{\"value\":\"circle\"},\"size\":{\"value\":5.477225575051661},\"x\":{\"field\":\"AnnualIncome\"},\"y\":{\"field\":\"SpendingScore\"}},\"id\":\"1167\",\"type\":\"Scatter\"},{\"attributes\":{\"fill_alpha\":{\"value\":0.2},\"fill_color\":{\"value\":\"#30a2da\"},\"line_alpha\":{\"value\":0.2},\"line_color\":{\"value\":\"#30a2da\"},\"size\":{\"value\":5.477225575051661},\"x\":{\"field\":\"AnnualIncome\"},\"y\":{\"field\":\"SpendingScore\"}},\"id\":\"1164\",\"type\":\"Scatter\"},{\"attributes\":{},\"id\":\"1168\",\"type\":\"AllLabels\"},{\"attributes\":{\"bottom_units\":\"screen\",\"fill_alpha\":0.5,\"fill_color\":\"lightgrey\",\"left_units\":\"screen\",\"level\":\"overlay\",\"line_alpha\":1.0,\"line_color\":\"black\",\"line_dash\":[4,4],\"line_width\":2,\"right_units\":\"screen\",\"syncable\":false,\"top_units\":\"screen\"},\"id\":\"1151\",\"type\":\"BoxAnnotation\"},{\"attributes\":{\"margin\":[5,5,5,5],\"name\":\"HSpacer01871\",\"sizing_mode\":\"stretch_width\"},\"id\":\"1194\",\"type\":\"Spacer\"},{\"attributes\":{},\"id\":\"1146\",\"type\":\"SaveTool\"}],\"root_ids\":[\"1124\"]},\"title\":\"Bokeh Application\",\"version\":\"2.3.2\"}};\n",
       "    var render_items = [{\"docid\":\"5ddf4b19-ffe0-4d22-8e6d-d6c9c0bf52f1\",\"root_ids\":[\"1124\"],\"roots\":{\"1124\":\"5cfe127e-fa9c-4a30-a228-cb62fd26c1f7\"}}];\n",
       "    root.Bokeh.embed.embed_items_notebook(docs_json, render_items);\n",
       "  }\n",
       "  if (root.Bokeh !== undefined && root.Bokeh.Panel !== undefined) {\n",
       "    embed_document(root);\n",
       "  } else {\n",
       "    var attempts = 0;\n",
       "    var timer = setInterval(function(root) {\n",
       "      if (root.Bokeh !== undefined && root.Bokeh.Panel !== undefined) {\n",
       "        clearInterval(timer);\n",
       "        embed_document(root);\n",
       "      } else if (document.readyState == \"complete\") {\n",
       "        attempts++;\n",
       "        if (attempts > 200) {\n",
       "          clearInterval(timer);\n",
       "          console.log(\"Bokeh: ERROR: Unable to run BokehJS code because BokehJS library is missing\");\n",
       "        }\n",
       "      }\n",
       "    }, 25, root)\n",
       "  }\n",
       "})(window);</script>"
      ],
      "text/plain": [
       ":Scatter   [AnnualIncome]   (SpendingScore)"
      ]
     },
     "execution_count": 17,
     "metadata": {
      "application/vnd.holoviews_exec.v0+json": {
       "id": "1124"
      }
     },
     "output_type": "execute_result"
    }
   ],
   "source": [
    "df_shopping.hvplot.scatter(x=\"AnnualIncome\", y=\"SpendingScore\")"
   ]
  },
  {
   "cell_type": "code",
   "execution_count": 18,
   "id": "93139262",
   "metadata": {},
   "outputs": [],
   "source": [
    "# Function to cluster and plot dataset\n",
    "def test_cluster_amount(df, clusters):\n",
    "    model = KMeans(n_clusters=clusters, random_state=5)\n",
    "    model\n",
    "\n",
    "    # Fitting model\n",
    "    model.fit(df)\n",
    "\n",
    "    # Add a new class column to df_iris\n",
    "    df[\"class\"] = model.labels_\n",
    "    "
   ]
  },
  {
   "cell_type": "code",
   "execution_count": 27,
   "id": "9b1f19e4",
   "metadata": {},
   "outputs": [
    {
     "data": {},
     "metadata": {},
     "output_type": "display_data"
    },
    {
     "data": {
      "application/vnd.holoviews_exec.v0+json": "",
      "text/html": [
       "<div id='2064'>\n",
       "\n",
       "\n",
       "\n",
       "\n",
       "\n",
       "  <div class=\"bk-root\" id=\"a56bcfb1-f547-4f06-ac50-f62379c4d92c\" data-root-id=\"2064\"></div>\n",
       "</div>\n",
       "<script type=\"application/javascript\">(function(root) {\n",
       "  function embed_document(root) {\n",
       "    var docs_json = {\"a359ecf2-e8ad-4eeb-9100-353931b86bf1\":{\"defs\":[{\"extends\":null,\"module\":null,\"name\":\"ReactiveHTML1\",\"overrides\":[],\"properties\":[]},{\"extends\":null,\"module\":null,\"name\":\"FlexBox1\",\"overrides\":[],\"properties\":[{\"default\":\"flex-start\",\"kind\":null,\"name\":\"align_content\"},{\"default\":\"flex-start\",\"kind\":null,\"name\":\"align_items\"},{\"default\":\"row\",\"kind\":null,\"name\":\"flex_direction\"},{\"default\":\"wrap\",\"kind\":null,\"name\":\"flex_wrap\"},{\"default\":\"flex-start\",\"kind\":null,\"name\":\"justify_content\"}]},{\"extends\":null,\"module\":null,\"name\":\"TemplateActions1\",\"overrides\":[],\"properties\":[{\"default\":0,\"kind\":null,\"name\":\"open_modal\"},{\"default\":0,\"kind\":null,\"name\":\"close_modal\"}]},{\"extends\":null,\"module\":null,\"name\":\"MaterialTemplateActions1\",\"overrides\":[],\"properties\":[{\"default\":0,\"kind\":null,\"name\":\"open_modal\"},{\"default\":0,\"kind\":null,\"name\":\"close_modal\"}]}],\"roots\":{\"references\":[{\"attributes\":{},\"id\":\"2149\",\"type\":\"UnionRenderers\"},{\"attributes\":{\"fill_alpha\":{\"value\":0.2},\"fill_color\":{\"value\":\"#fc4f30\"},\"line_alpha\":{\"value\":0.2},\"line_color\":{\"value\":\"#fc4f30\"},\"size\":{\"value\":5.477225575051661},\"x\":{\"field\":\"AnnualIncome\"},\"y\":{\"field\":\"SpendingScore\"}},\"id\":\"2137\",\"type\":\"Scatter\"},{\"attributes\":{\"source\":{\"id\":\"2178\"}},\"id\":\"2185\",\"type\":\"CDSView\"},{\"attributes\":{\"data\":{\"AnnualIncome\":[81000,81000,85000,85000,86000,86000,87000,87000,87000,87000,87000,87000,87000,88000,88000,88000,88000,93000,93000],\"SpendingScore\":{\"__ndarray__\":\"AAAAAAAAFEAAAAAAAEBXQAAAAAAAADpAAAAAAADAUkAAAAAAAAA0QAAAAAAAwFdAAAAAAAAAO0AAAAAAAIBPQAAAAAAAACpAAAAAAADAUkAAAAAAAAAkQAAAAAAAAFdAAAAAAAAARkAAAAAAAAAqQAAAAAAAgFVAAAAAAAAALkAAAAAAAEBRQAAAAAAAACxAAAAAAACAVkA=\",\"dtype\":\"float64\",\"order\":\"little\",\"shape\":[19]},\"class\":[2,2,2,2,2,2,2,2,2,2,2,2,2,2,2,2,2,2,2]},\"selected\":{\"id\":\"2155\"},\"selection_policy\":{\"id\":\"2173\"}},\"id\":\"2154\",\"type\":\"ColumnDataSource\"},{\"attributes\":{\"margin\":[5,5,5,5],\"name\":\"HSpacer03704\",\"sizing_mode\":\"stretch_width\"},\"id\":\"2065\",\"type\":\"Spacer\"},{\"attributes\":{},\"id\":\"2112\",\"type\":\"Selection\"},{\"attributes\":{\"data_source\":{\"id\":\"2178\"},\"glyph\":{\"id\":\"2181\"},\"hover_glyph\":null,\"muted_glyph\":{\"id\":\"2183\"},\"nonselection_glyph\":{\"id\":\"2182\"},\"selection_glyph\":{\"id\":\"2203\"},\"view\":{\"id\":\"2185\"}},\"id\":\"2184\",\"type\":\"GlyphRenderer\"},{\"attributes\":{\"source\":{\"id\":\"2132\"}},\"id\":\"2139\",\"type\":\"CDSView\"},{\"attributes\":{},\"id\":\"2109\",\"type\":\"BasicTickFormatter\"},{\"attributes\":{\"fill_alpha\":{\"value\":0.1},\"fill_color\":{\"value\":\"#fc4f30\"},\"line_alpha\":{\"value\":0.1},\"line_color\":{\"value\":\"#fc4f30\"},\"size\":{\"value\":5.477225575051661},\"x\":{\"field\":\"AnnualIncome\"},\"y\":{\"field\":\"SpendingScore\"}},\"id\":\"2136\",\"type\":\"Scatter\"},{\"attributes\":{\"source\":{\"id\":\"2154\"}},\"id\":\"2161\",\"type\":\"CDSView\"},{\"attributes\":{\"fill_color\":{\"value\":\"#fc4f30\"},\"line_color\":{\"value\":\"#fc4f30\"},\"size\":{\"value\":5.477225575051661},\"x\":{\"field\":\"AnnualIncome\"},\"y\":{\"field\":\"SpendingScore\"}},\"id\":\"2135\",\"type\":\"Scatter\"},{\"attributes\":{\"data_source\":{\"id\":\"2132\"},\"glyph\":{\"id\":\"2135\"},\"hover_glyph\":null,\"muted_glyph\":{\"id\":\"2137\"},\"nonselection_glyph\":{\"id\":\"2136\"},\"selection_glyph\":{\"id\":\"2153\"},\"view\":{\"id\":\"2139\"}},\"id\":\"2138\",\"type\":\"GlyphRenderer\"},{\"attributes\":{\"data_source\":{\"id\":\"2154\"},\"glyph\":{\"id\":\"2157\"},\"hover_glyph\":null,\"muted_glyph\":{\"id\":\"2159\"},\"nonselection_glyph\":{\"id\":\"2158\"},\"selection_glyph\":{\"id\":\"2177\"},\"view\":{\"id\":\"2161\"}},\"id\":\"2160\",\"type\":\"GlyphRenderer\"},{\"attributes\":{\"bottom_units\":\"screen\",\"fill_alpha\":0.5,\"fill_color\":\"lightgrey\",\"left_units\":\"screen\",\"level\":\"overlay\",\"line_alpha\":1.0,\"line_color\":\"black\",\"line_dash\":[4,4],\"line_width\":2,\"right_units\":\"screen\",\"syncable\":false,\"top_units\":\"screen\"},\"id\":\"2097\",\"type\":\"BoxAnnotation\"},{\"attributes\":{\"source\":{\"id\":\"2111\"}},\"id\":\"2118\",\"type\":\"CDSView\"},{\"attributes\":{\"fill_alpha\":{\"value\":0.2},\"fill_color\":{\"value\":\"#e5ae38\"},\"line_alpha\":{\"value\":0.2},\"line_color\":{\"value\":\"#e5ae38\"},\"size\":{\"value\":5.477225575051661},\"x\":{\"field\":\"AnnualIncome\"},\"y\":{\"field\":\"SpendingScore\"}},\"id\":\"2159\",\"type\":\"Scatter\"},{\"attributes\":{\"active_multi\":null,\"tools\":[{\"id\":\"2068\"},{\"id\":\"2092\"},{\"id\":\"2093\"},{\"id\":\"2094\"},{\"id\":\"2095\"},{\"id\":\"2096\"}]},\"id\":\"2098\",\"type\":\"Toolbar\"},{\"attributes\":{\"data_source\":{\"id\":\"2111\"},\"glyph\":{\"id\":\"2114\"},\"hover_glyph\":null,\"muted_glyph\":{\"id\":\"2116\"},\"nonselection_glyph\":{\"id\":\"2115\"},\"selection_glyph\":{\"id\":\"2131\"},\"view\":{\"id\":\"2118\"}},\"id\":\"2117\",\"type\":\"GlyphRenderer\"},{\"attributes\":{\"fill_alpha\":{\"value\":0.2},\"fill_color\":{\"value\":\"#30a2da\"},\"line_alpha\":{\"value\":0.2},\"line_color\":{\"value\":\"#30a2da\"},\"size\":{\"value\":5.477225575051661},\"x\":{\"field\":\"AnnualIncome\"},\"y\":{\"field\":\"SpendingScore\"}},\"id\":\"2116\",\"type\":\"Scatter\"},{\"attributes\":{\"callback\":null,\"renderers\":[{\"id\":\"2117\"},{\"id\":\"2138\"},{\"id\":\"2160\"},{\"id\":\"2184\"},{\"id\":\"2210\"},{\"id\":\"2238\"},{\"id\":\"2268\"}],\"tags\":[\"hv_created\"],\"tooltips\":[[\"class\",\"@{class}\"],[\"AnnualIncome\",\"@{AnnualIncome}\"],[\"SpendingScore\",\"@{SpendingScore}\"]]},\"id\":\"2068\",\"type\":\"HoverTool\"},{\"attributes\":{\"data\":{\"AnnualIncome\":[97000,97000,98000,98000,99000,99000,101000,101000,103000,103000,103000,103000,113000,113000],\"SpendingScore\":{\"__ndarray__\":\"AAAAAAAAQEAAAAAAAIBVQAAAAAAAAC5AAAAAAAAAVkAAAAAAAIBDQAAAAAAAQFhAAAAAAAAAOEAAAAAAAABRQAAAAAAAADFAAAAAAABAVUAAAAAAAAA3QAAAAAAAQFFAAAAAAAAAIEAAAAAAAMBWQA==\",\"dtype\":\"float64\",\"order\":\"little\",\"shape\":[14]},\"class\":[5,5,5,5,5,5,5,5,5,5,5,5,5,5]},\"selected\":{\"id\":\"2233\"},\"selection_policy\":{\"id\":\"2257\"}},\"id\":\"2232\",\"type\":\"ColumnDataSource\"},{\"attributes\":{\"click_policy\":\"mute\",\"items\":[{\"id\":\"2130\"},{\"id\":\"2152\"},{\"id\":\"2176\"},{\"id\":\"2202\"},{\"id\":\"2230\"},{\"id\":\"2260\"},{\"id\":\"2292\"}],\"location\":[0,0],\"title\":\"class\"},\"id\":\"2129\",\"type\":\"Legend\"},{\"attributes\":{\"text_color\":\"black\",\"text_font_size\":\"12pt\"},\"id\":\"2076\",\"type\":\"Title\"},{\"attributes\":{\"fill_color\":{\"value\":\"#30a2da\"},\"line_color\":{\"value\":\"#30a2da\"},\"size\":{\"value\":5.477225575051661},\"x\":{\"field\":\"AnnualIncome\"},\"y\":{\"field\":\"SpendingScore\"}},\"id\":\"2114\",\"type\":\"Scatter\"},{\"attributes\":{},\"id\":\"2133\",\"type\":\"Selection\"},{\"attributes\":{},\"id\":\"2155\",\"type\":\"Selection\"},{\"attributes\":{\"fill_alpha\":{\"value\":0.1},\"fill_color\":{\"value\":\"#30a2da\"},\"line_alpha\":{\"value\":0.1},\"line_color\":{\"value\":\"#30a2da\"},\"size\":{\"value\":5.477225575051661},\"x\":{\"field\":\"AnnualIncome\"},\"y\":{\"field\":\"SpendingScore\"}},\"id\":\"2115\",\"type\":\"Scatter\"},{\"attributes\":{},\"id\":\"2085\",\"type\":\"BasicTicker\"},{\"attributes\":{\"axis\":{\"id\":\"2084\"},\"grid_line_color\":null,\"ticker\":null},\"id\":\"2087\",\"type\":\"Grid\"},{\"attributes\":{},\"id\":\"2126\",\"type\":\"UnionRenderers\"},{\"attributes\":{},\"id\":\"2080\",\"type\":\"LinearScale\"},{\"attributes\":{\"data\":{\"AnnualIncome\":[33000,33000,33000,33000,34000,34000,37000,37000,38000,38000,39000,39000,39000,39000,40000,40000,40000,40000,42000,42000,43000,43000,43000,43000,44000,44000,46000,46000,46000,46000,47000,47000,48000,48000,48000,48000,48000,48000,49000,49000,50000,50000],\"SpendingScore\":{\"__ndarray__\":\"AAAAAAAAEEAAAAAAAABXQAAAAAAAACxAAAAAAABAVEAAAAAAAAAxQAAAAAAAQFJAAAAAAAAAOkAAAAAAAMBSQAAAAAAAgEFAAAAAAAAAV0AAAAAAAABCQAAAAAAAgE5AAAAAAAAAPEAAAAAAAEBQQAAAAAAAgEtAAAAAAACAR0AAAAAAAABFQAAAAAAAAEVAAAAAAAAASkAAAAAAAABOQAAAAAAAAEtAAAAAAAAATkAAAAAAAIBGQAAAAAAAgERAAAAAAAAASUAAAAAAAABHQAAAAAAAgElAAAAAAAAAR0AAAAAAAABMQAAAAAAAgEtAAAAAAAAASkAAAAAAAIBNQAAAAAAAgElAAAAAAACATUAAAAAAAABJQAAAAAAAAEhAAAAAAACATUAAAAAAAIBHQAAAAAAAgEtAAAAAAAAARUAAAAAAAIBIQAAAAAAAAExA\",\"dtype\":\"float64\",\"order\":\"little\",\"shape\":[42]},\"class\":[4,4,4,4,4,4,4,4,4,4,4,4,4,4,4,4,4,4,4,4,4,4,4,4,4,4,4,4,4,4,4,4,4,4,4,4,4,4,4,4,4,4]},\"selected\":{\"id\":\"2205\"},\"selection_policy\":{\"id\":\"2227\"}},\"id\":\"2204\",\"type\":\"ColumnDataSource\"},{\"attributes\":{\"angle\":{\"value\":0.0},\"fill_alpha\":{\"value\":1.0},\"fill_color\":{\"value\":\"#9467bd\"},\"hatch_alpha\":{\"value\":1.0},\"hatch_color\":{\"value\":\"black\"},\"hatch_scale\":{\"value\":12.0},\"hatch_weight\":{\"value\":1.0},\"line_alpha\":{\"value\":1.0},\"line_cap\":{\"value\":\"butt\"},\"line_color\":{\"value\":\"#9467bd\"},\"line_dash\":{\"value\":[]},\"line_dash_offset\":{\"value\":0},\"line_join\":{\"value\":\"bevel\"},\"line_width\":{\"value\":1},\"marker\":{\"value\":\"circle\"},\"size\":{\"value\":5.477225575051661},\"x\":{\"field\":\"AnnualIncome\"},\"y\":{\"field\":\"SpendingScore\"}},\"id\":\"2293\",\"type\":\"Scatter\"},{\"attributes\":{},\"id\":\"2082\",\"type\":\"LinearScale\"},{\"attributes\":{\"axis_label\":\"SpendingScore\",\"formatter\":{\"id\":\"2109\"},\"major_label_policy\":{\"id\":\"2108\"},\"ticker\":{\"id\":\"2089\"}},\"id\":\"2088\",\"type\":\"LinearAxis\"},{\"attributes\":{\"end\":108.8,\"reset_end\":108.8,\"reset_start\":-8.8,\"start\":-8.8,\"tags\":[[[\"SpendingScore\",\"SpendingScore\",null]]]},\"id\":\"2067\",\"type\":\"Range1d\"},{\"attributes\":{\"axis_label\":\"AnnualIncome\",\"formatter\":{\"id\":\"2106\"},\"major_label_policy\":{\"id\":\"2105\"},\"ticker\":{\"id\":\"2085\"}},\"id\":\"2084\",\"type\":\"LinearAxis\"},{\"attributes\":{\"fill_alpha\":{\"value\":0.2},\"fill_color\":{\"value\":\"#9467bd\"},\"line_alpha\":{\"value\":0.2},\"line_color\":{\"value\":\"#9467bd\"},\"size\":{\"value\":5.477225575051661},\"x\":{\"field\":\"AnnualIncome\"},\"y\":{\"field\":\"SpendingScore\"}},\"id\":\"2267\",\"type\":\"Scatter\"},{\"attributes\":{},\"id\":\"2257\",\"type\":\"UnionRenderers\"},{\"attributes\":{},\"id\":\"2089\",\"type\":\"BasicTicker\"},{\"attributes\":{},\"id\":\"2105\",\"type\":\"AllLabels\"},{\"attributes\":{\"axis\":{\"id\":\"2088\"},\"dimension\":1,\"grid_line_color\":null,\"ticker\":null},\"id\":\"2091\",\"type\":\"Grid\"},{\"attributes\":{\"label\":{\"value\":\"5\"},\"renderers\":[{\"id\":\"2238\"}]},\"id\":\"2260\",\"type\":\"LegendItem\"},{\"attributes\":{\"fill_alpha\":{\"value\":0.2},\"fill_color\":{\"value\":\"#6d904f\"},\"line_alpha\":{\"value\":0.2},\"line_color\":{\"value\":\"#6d904f\"},\"size\":{\"value\":5.477225575051661},\"x\":{\"field\":\"AnnualIncome\"},\"y\":{\"field\":\"SpendingScore\"}},\"id\":\"2183\",\"type\":\"Scatter\"},{\"attributes\":{\"angle\":{\"value\":0.0},\"fill_alpha\":{\"value\":1.0},\"fill_color\":{\"value\":\"#17becf\"},\"hatch_alpha\":{\"value\":1.0},\"hatch_color\":{\"value\":\"black\"},\"hatch_scale\":{\"value\":12.0},\"hatch_weight\":{\"value\":1.0},\"line_alpha\":{\"value\":1.0},\"line_cap\":{\"value\":\"butt\"},\"line_color\":{\"value\":\"#17becf\"},\"line_dash\":{\"value\":[]},\"line_dash_offset\":{\"value\":0},\"line_join\":{\"value\":\"bevel\"},\"line_width\":{\"value\":1},\"marker\":{\"value\":\"circle\"},\"size\":{\"value\":5.477225575051661},\"x\":{\"field\":\"AnnualIncome\"},\"y\":{\"field\":\"SpendingScore\"}},\"id\":\"2261\",\"type\":\"Scatter\"},{\"attributes\":{},\"id\":\"2227\",\"type\":\"UnionRenderers\"},{\"attributes\":{\"label\":{\"value\":\"4\"},\"renderers\":[{\"id\":\"2210\"}]},\"id\":\"2230\",\"type\":\"LegendItem\"},{\"attributes\":{\"angle\":{\"value\":0.0},\"fill_alpha\":{\"value\":1.0},\"fill_color\":{\"value\":\"#8b8b8b\"},\"hatch_alpha\":{\"value\":1.0},\"hatch_color\":{\"value\":\"black\"},\"hatch_scale\":{\"value\":12.0},\"hatch_weight\":{\"value\":1.0},\"line_alpha\":{\"value\":1.0},\"line_cap\":{\"value\":\"butt\"},\"line_color\":{\"value\":\"#8b8b8b\"},\"line_dash\":{\"value\":[]},\"line_dash_offset\":{\"value\":0},\"line_join\":{\"value\":\"bevel\"},\"line_width\":{\"value\":1},\"marker\":{\"value\":\"circle\"},\"size\":{\"value\":5.477225575051661},\"x\":{\"field\":\"AnnualIncome\"},\"y\":{\"field\":\"SpendingScore\"}},\"id\":\"2231\",\"type\":\"Scatter\"},{\"attributes\":{\"fill_color\":{\"value\":\"#6d904f\"},\"line_color\":{\"value\":\"#6d904f\"},\"size\":{\"value\":5.477225575051661},\"x\":{\"field\":\"AnnualIncome\"},\"y\":{\"field\":\"SpendingScore\"}},\"id\":\"2181\",\"type\":\"Scatter\"},{\"attributes\":{},\"id\":\"2233\",\"type\":\"Selection\"},{\"attributes\":{\"angle\":{\"value\":0.0},\"fill_alpha\":{\"value\":1.0},\"fill_color\":{\"value\":\"#fc4f30\"},\"hatch_alpha\":{\"value\":1.0},\"hatch_color\":{\"value\":\"black\"},\"hatch_scale\":{\"value\":12.0},\"hatch_weight\":{\"value\":1.0},\"line_alpha\":{\"value\":1.0},\"line_cap\":{\"value\":\"butt\"},\"line_color\":{\"value\":\"#fc4f30\"},\"line_dash\":{\"value\":[]},\"line_dash_offset\":{\"value\":0},\"line_join\":{\"value\":\"bevel\"},\"line_width\":{\"value\":1},\"marker\":{\"value\":\"circle\"},\"size\":{\"value\":5.477225575051661},\"x\":{\"field\":\"AnnualIncome\"},\"y\":{\"field\":\"SpendingScore\"}},\"id\":\"2153\",\"type\":\"Scatter\"},{\"attributes\":{\"angle\":{\"value\":0.0},\"fill_alpha\":{\"value\":1.0},\"fill_color\":{\"value\":\"#e5ae38\"},\"hatch_alpha\":{\"value\":1.0},\"hatch_color\":{\"value\":\"black\"},\"hatch_scale\":{\"value\":12.0},\"hatch_weight\":{\"value\":1.0},\"line_alpha\":{\"value\":1.0},\"line_cap\":{\"value\":\"butt\"},\"line_color\":{\"value\":\"#e5ae38\"},\"line_dash\":{\"value\":[]},\"line_dash_offset\":{\"value\":0},\"line_join\":{\"value\":\"bevel\"},\"line_width\":{\"value\":1},\"marker\":{\"value\":\"circle\"},\"size\":{\"value\":5.477225575051661},\"x\":{\"field\":\"AnnualIncome\"},\"y\":{\"field\":\"SpendingScore\"}},\"id\":\"2177\",\"type\":\"Scatter\"},{\"attributes\":{},\"id\":\"2108\",\"type\":\"AllLabels\"},{\"attributes\":{},\"id\":\"2263\",\"type\":\"Selection\"},{\"attributes\":{\"label\":{\"value\":\"1\"},\"renderers\":[{\"id\":\"2138\"}]},\"id\":\"2152\",\"type\":\"LegendItem\"},{\"attributes\":{},\"id\":\"2173\",\"type\":\"UnionRenderers\"},{\"attributes\":{\"fill_color\":{\"value\":\"#e5ae38\"},\"line_color\":{\"value\":\"#e5ae38\"},\"size\":{\"value\":5.477225575051661},\"x\":{\"field\":\"AnnualIncome\"},\"y\":{\"field\":\"SpendingScore\"}},\"id\":\"2157\",\"type\":\"Scatter\"},{\"attributes\":{\"label\":{\"value\":\"2\"},\"renderers\":[{\"id\":\"2160\"}]},\"id\":\"2176\",\"type\":\"LegendItem\"},{\"attributes\":{\"below\":[{\"id\":\"2084\"}],\"center\":[{\"id\":\"2087\"},{\"id\":\"2091\"}],\"height\":300,\"left\":[{\"id\":\"2088\"}],\"margin\":[5,5,5,5],\"min_border_bottom\":10,\"min_border_left\":10,\"min_border_right\":10,\"min_border_top\":10,\"renderers\":[{\"id\":\"2117\"},{\"id\":\"2138\"},{\"id\":\"2160\"},{\"id\":\"2184\"},{\"id\":\"2210\"},{\"id\":\"2238\"},{\"id\":\"2268\"}],\"right\":[{\"id\":\"2129\"}],\"sizing_mode\":\"fixed\",\"title\":{\"id\":\"2076\"},\"toolbar\":{\"id\":\"2098\"},\"width\":700,\"x_range\":{\"id\":\"2066\"},\"x_scale\":{\"id\":\"2080\"},\"y_range\":{\"id\":\"2067\"},\"y_scale\":{\"id\":\"2082\"}},\"id\":\"2075\",\"subtype\":\"Figure\",\"type\":\"Plot\"},{\"attributes\":{\"source\":{\"id\":\"2262\"}},\"id\":\"2269\",\"type\":\"CDSView\"},{\"attributes\":{},\"id\":\"2106\",\"type\":\"BasicTickFormatter\"},{\"attributes\":{},\"id\":\"2092\",\"type\":\"SaveTool\"},{\"attributes\":{\"fill_alpha\":{\"value\":0.2},\"fill_color\":{\"value\":\"#17becf\"},\"line_alpha\":{\"value\":0.2},\"line_color\":{\"value\":\"#17becf\"},\"size\":{\"value\":5.477225575051661},\"x\":{\"field\":\"AnnualIncome\"},\"y\":{\"field\":\"SpendingScore\"}},\"id\":\"2237\",\"type\":\"Scatter\"},{\"attributes\":{},\"id\":\"2093\",\"type\":\"PanTool\"},{\"attributes\":{},\"id\":\"2289\",\"type\":\"UnionRenderers\"},{\"attributes\":{\"label\":{\"value\":\"6\"},\"renderers\":[{\"id\":\"2268\"}]},\"id\":\"2292\",\"type\":\"LegendItem\"},{\"attributes\":{\"fill_color\":{\"value\":\"#17becf\"},\"line_color\":{\"value\":\"#17becf\"},\"size\":{\"value\":5.477225575051661},\"x\":{\"field\":\"AnnualIncome\"},\"y\":{\"field\":\"SpendingScore\"}},\"id\":\"2235\",\"type\":\"Scatter\"},{\"attributes\":{\"fill_color\":{\"value\":\"#9467bd\"},\"line_color\":{\"value\":\"#9467bd\"},\"size\":{\"value\":5.477225575051661},\"x\":{\"field\":\"AnnualIncome\"},\"y\":{\"field\":\"SpendingScore\"}},\"id\":\"2265\",\"type\":\"Scatter\"},{\"attributes\":{},\"id\":\"2096\",\"type\":\"ResetTool\"},{\"attributes\":{\"angle\":{\"value\":0.0},\"fill_alpha\":{\"value\":1.0},\"fill_color\":{\"value\":\"#30a2da\"},\"hatch_alpha\":{\"value\":1.0},\"hatch_color\":{\"value\":\"black\"},\"hatch_scale\":{\"value\":12.0},\"hatch_weight\":{\"value\":1.0},\"line_alpha\":{\"value\":1.0},\"line_cap\":{\"value\":\"butt\"},\"line_color\":{\"value\":\"#30a2da\"},\"line_dash\":{\"value\":[]},\"line_dash_offset\":{\"value\":0},\"line_join\":{\"value\":\"bevel\"},\"line_width\":{\"value\":1},\"marker\":{\"value\":\"circle\"},\"size\":{\"value\":5.477225575051661},\"x\":{\"field\":\"AnnualIncome\"},\"y\":{\"field\":\"SpendingScore\"}},\"id\":\"2131\",\"type\":\"Scatter\"},{\"attributes\":{},\"id\":\"2094\",\"type\":\"WheelZoomTool\"},{\"attributes\":{\"fill_color\":{\"value\":\"#8b8b8b\"},\"line_color\":{\"value\":\"#8b8b8b\"},\"size\":{\"value\":5.477225575051661},\"x\":{\"field\":\"AnnualIncome\"},\"y\":{\"field\":\"SpendingScore\"}},\"id\":\"2207\",\"type\":\"Scatter\"},{\"attributes\":{\"end\":142228.57142857142,\"reset_end\":142228.57142857142,\"reset_start\":9771.428571428572,\"start\":9771.428571428572,\"tags\":[[[\"AnnualIncome\",\"AnnualIncome\",null]]]},\"id\":\"2066\",\"type\":\"Range1d\"},{\"attributes\":{\"fill_alpha\":{\"value\":0.2},\"fill_color\":{\"value\":\"#8b8b8b\"},\"line_alpha\":{\"value\":0.2},\"line_color\":{\"value\":\"#8b8b8b\"},\"size\":{\"value\":5.477225575051661},\"x\":{\"field\":\"AnnualIncome\"},\"y\":{\"field\":\"SpendingScore\"}},\"id\":\"2209\",\"type\":\"Scatter\"},{\"attributes\":{\"fill_alpha\":{\"value\":0.1},\"fill_color\":{\"value\":\"#17becf\"},\"line_alpha\":{\"value\":0.1},\"line_color\":{\"value\":\"#17becf\"},\"size\":{\"value\":5.477225575051661},\"x\":{\"field\":\"AnnualIncome\"},\"y\":{\"field\":\"SpendingScore\"}},\"id\":\"2236\",\"type\":\"Scatter\"},{\"attributes\":{\"label\":{\"value\":\"0\"},\"renderers\":[{\"id\":\"2117\"}]},\"id\":\"2130\",\"type\":\"LegendItem\"},{\"attributes\":{\"fill_alpha\":{\"value\":0.1},\"fill_color\":{\"value\":\"#8b8b8b\"},\"line_alpha\":{\"value\":0.1},\"line_color\":{\"value\":\"#8b8b8b\"},\"size\":{\"value\":5.477225575051661},\"x\":{\"field\":\"AnnualIncome\"},\"y\":{\"field\":\"SpendingScore\"}},\"id\":\"2208\",\"type\":\"Scatter\"},{\"attributes\":{\"data\":{\"AnnualIncome\":[54000,54000,54000,54000,54000,54000,54000,54000,54000,54000,54000,54000,57000,57000,58000,58000,59000,59000,60000,60000,60000,60000,60000,60000,61000,61000,62000,62000,62000,62000,62000,62000,63000,63000,63000,63000,63000,63000,64000,64000,65000,65000,65000,65000,67000,67000,67000,67000],\"SpendingScore\":{\"__ndarray__\":\"AAAAAACAR0AAAAAAAABLQAAAAAAAgEpAAAAAAAAASEAAAAAAAABKQAAAAAAAAEVAAAAAAACASUAAAAAAAIBLQAAAAAAAgERAAAAAAAAARkAAAAAAAIBMQAAAAAAAAEdAAAAAAAAATUAAAAAAAIBLQAAAAAAAAE5AAAAAAAAAR0AAAAAAAIBLQAAAAAAAgERAAAAAAACASEAAAAAAAABEQAAAAAAAAEVAAAAAAAAASkAAAAAAAIBHQAAAAAAAAElAAAAAAAAARUAAAAAAAIBIQAAAAAAAgERAAAAAAAAASEAAAAAAAIBNQAAAAAAAgEtAAAAAAAAATEAAAAAAAABFQAAAAAAAAElAAAAAAAAAR0AAAAAAAIBFQAAAAAAAAEhAAAAAAAAASkAAAAAAAABLQAAAAAAAAEVAAAAAAAAAR0AAAAAAAABIQAAAAAAAAElAAAAAAACARUAAAAAAAIBNQAAAAAAAgEVAAAAAAACATEAAAAAAAABMQAAAAAAAAERA\",\"dtype\":\"float64\",\"order\":\"little\",\"shape\":[48]},\"class\":[0,0,0,0,0,0,0,0,0,0,0,0,0,0,0,0,0,0,0,0,0,0,0,0,0,0,0,0,0,0,0,0,0,0,0,0,0,0,0,0,0,0,0,0,0,0,0,0]},\"selected\":{\"id\":\"2112\"},\"selection_policy\":{\"id\":\"2126\"}},\"id\":\"2111\",\"type\":\"ColumnDataSource\"},{\"attributes\":{\"fill_alpha\":{\"value\":0.1},\"fill_color\":{\"value\":\"#9467bd\"},\"line_alpha\":{\"value\":0.1},\"line_color\":{\"value\":\"#9467bd\"},\"size\":{\"value\":5.477225575051661},\"x\":{\"field\":\"AnnualIncome\"},\"y\":{\"field\":\"SpendingScore\"}},\"id\":\"2266\",\"type\":\"Scatter\"},{\"attributes\":{\"overlay\":{\"id\":\"2097\"}},\"id\":\"2095\",\"type\":\"BoxZoomTool\"},{\"attributes\":{\"label\":{\"value\":\"3\"},\"renderers\":[{\"id\":\"2184\"}]},\"id\":\"2202\",\"type\":\"LegendItem\"},{\"attributes\":{\"fill_alpha\":{\"value\":0.1},\"fill_color\":{\"value\":\"#6d904f\"},\"line_alpha\":{\"value\":0.1},\"line_color\":{\"value\":\"#6d904f\"},\"size\":{\"value\":5.477225575051661},\"x\":{\"field\":\"AnnualIncome\"},\"y\":{\"field\":\"SpendingScore\"}},\"id\":\"2182\",\"type\":\"Scatter\"},{\"attributes\":{\"angle\":{\"value\":0.0},\"fill_alpha\":{\"value\":1.0},\"fill_color\":{\"value\":\"#6d904f\"},\"hatch_alpha\":{\"value\":1.0},\"hatch_color\":{\"value\":\"black\"},\"hatch_scale\":{\"value\":12.0},\"hatch_weight\":{\"value\":1.0},\"line_alpha\":{\"value\":1.0},\"line_cap\":{\"value\":\"butt\"},\"line_color\":{\"value\":\"#6d904f\"},\"line_dash\":{\"value\":[]},\"line_dash_offset\":{\"value\":0},\"line_join\":{\"value\":\"bevel\"},\"line_width\":{\"value\":1},\"marker\":{\"value\":\"circle\"},\"size\":{\"value\":5.477225575051661},\"x\":{\"field\":\"AnnualIncome\"},\"y\":{\"field\":\"SpendingScore\"}},\"id\":\"2203\",\"type\":\"Scatter\"},{\"attributes\":{\"data\":{\"AnnualIncome\":[69000,69000,70000,70000,71000,71000,71000,71000,71000,71000,72000,72000,73000,73000,73000,73000,74000,74000,75000,75000,76000,76000,77000,77000,77000,77000,78000,78000,78000,78000,78000,78000,78000,78000,78000,78000,78000,78000,79000,79000],\"SpendingScore\":{\"__ndarray__\":\"AAAAAAAATUAAAAAAAMBWQAAAAAAAAD1AAAAAAABAU0AAAAAAAIBBQAAAAAAAwFdAAAAAAAAAJkAAAAAAAMBSQAAAAAAAACJAAAAAAADAUkAAAAAAAABBQAAAAAAAwFFAAAAAAAAAFEAAAAAAAABWQAAAAAAAABxAAAAAAABAUkAAAAAAAAAkQAAAAAAAAFJAAAAAAAAAFEAAAAAAAEBXQAAAAAAAAERAAAAAAADAVUAAAAAAAAAoQAAAAAAAQFhAAAAAAAAAQkAAAAAAAIBSQAAAAAAAADZAAAAAAACAVkAAAAAAAAAxQAAAAAAAAFZAAAAAAAAANEAAAAAAAABTQAAAAAAAADBAAAAAAABAVkAAAAAAAADwPwAAAAAAgFNAAAAAAAAA8D8AAAAAAEBSQAAAAAAAgEFAAAAAAADAVEA=\",\"dtype\":\"float64\",\"order\":\"little\",\"shape\":[40]},\"class\":[6,6,6,6,6,6,6,6,6,6,6,6,6,6,6,6,6,6,6,6,6,6,6,6,6,6,6,6,6,6,6,6,6,6,6,6,6,6,6,6]},\"selected\":{\"id\":\"2263\"},\"selection_policy\":{\"id\":\"2289\"}},\"id\":\"2262\",\"type\":\"ColumnDataSource\"},{\"attributes\":{\"data\":{\"AnnualIncome\":[15000,15000,16000,16000,17000,17000,18000,18000,19000,19000,19000,19000,20000,20000,20000,20000,21000,21000,23000,23000,24000,24000,25000,25000,28000,28000,28000,28000,29000,29000,30000,30000],\"SpendingScore\":{\"__ndarray__\":\"AAAAAACAQ0AAAAAAAEBUQAAAAAAAABhAAAAAAABAU0AAAAAAAABEQAAAAAAAAFNAAAAAAAAAGEAAAAAAAIBXQAAAAAAAAAhAAAAAAAAAUkAAAAAAAAAsQAAAAAAAwFhAAAAAAAAALkAAAAAAAEBTQAAAAAAAACpAAAAAAADAU0AAAAAAAIBBQAAAAAAAgFBAAAAAAAAAPUAAAAAAAIBYQAAAAAAAgEFAAAAAAABAUkAAAAAAAAAUQAAAAAAAQFJAAAAAAAAALEAAAAAAAIBUQAAAAAAAAEBAAAAAAACATkAAAAAAAAA/QAAAAAAAwFVAAAAAAAAAEEAAAAAAAEBSQA==\",\"dtype\":\"float64\",\"order\":\"little\",\"shape\":[32]},\"class\":[1,1,1,1,1,1,1,1,1,1,1,1,1,1,1,1,1,1,1,1,1,1,1,1,1,1,1,1,1,1,1,1]},\"selected\":{\"id\":\"2133\"},\"selection_policy\":{\"id\":\"2149\"}},\"id\":\"2132\",\"type\":\"ColumnDataSource\"},{\"attributes\":{\"data_source\":{\"id\":\"2262\"},\"glyph\":{\"id\":\"2265\"},\"hover_glyph\":null,\"muted_glyph\":{\"id\":\"2267\"},\"nonselection_glyph\":{\"id\":\"2266\"},\"selection_glyph\":{\"id\":\"2293\"},\"view\":{\"id\":\"2269\"}},\"id\":\"2268\",\"type\":\"GlyphRenderer\"},{\"attributes\":{\"data\":{\"AnnualIncome\":[120000,120000,126000,126000,137000,137000],\"SpendingScore\":{\"__ndarray__\":\"AAAAAAAAMEAAAAAAAMBTQAAAAAAAADxAAAAAAACAUkAAAAAAAAAyQAAAAAAAwFRA\",\"dtype\":\"float64\",\"order\":\"little\",\"shape\":[6]},\"class\":[3,3,3,3,3,3]},\"selected\":{\"id\":\"2179\"},\"selection_policy\":{\"id\":\"2199\"}},\"id\":\"2178\",\"type\":\"ColumnDataSource\"},{\"attributes\":{\"source\":{\"id\":\"2232\"}},\"id\":\"2239\",\"type\":\"CDSView\"},{\"attributes\":{\"children\":[{\"id\":\"2065\"},{\"id\":\"2075\"},{\"id\":\"2492\"}],\"margin\":[0,0,0,0],\"name\":\"Row03700\",\"tags\":[\"embedded\"]},\"id\":\"2064\",\"type\":\"Row\"},{\"attributes\":{\"fill_alpha\":{\"value\":0.1},\"fill_color\":{\"value\":\"#e5ae38\"},\"line_alpha\":{\"value\":0.1},\"line_color\":{\"value\":\"#e5ae38\"},\"size\":{\"value\":5.477225575051661},\"x\":{\"field\":\"AnnualIncome\"},\"y\":{\"field\":\"SpendingScore\"}},\"id\":\"2158\",\"type\":\"Scatter\"},{\"attributes\":{\"margin\":[5,5,5,5],\"name\":\"HSpacer03705\",\"sizing_mode\":\"stretch_width\"},\"id\":\"2492\",\"type\":\"Spacer\"},{\"attributes\":{\"source\":{\"id\":\"2204\"}},\"id\":\"2211\",\"type\":\"CDSView\"},{\"attributes\":{},\"id\":\"2199\",\"type\":\"UnionRenderers\"},{\"attributes\":{\"data_source\":{\"id\":\"2232\"},\"glyph\":{\"id\":\"2235\"},\"hover_glyph\":null,\"muted_glyph\":{\"id\":\"2237\"},\"nonselection_glyph\":{\"id\":\"2236\"},\"selection_glyph\":{\"id\":\"2261\"},\"view\":{\"id\":\"2239\"}},\"id\":\"2238\",\"type\":\"GlyphRenderer\"},{\"attributes\":{\"data_source\":{\"id\":\"2204\"},\"glyph\":{\"id\":\"2207\"},\"hover_glyph\":null,\"muted_glyph\":{\"id\":\"2209\"},\"nonselection_glyph\":{\"id\":\"2208\"},\"selection_glyph\":{\"id\":\"2231\"},\"view\":{\"id\":\"2211\"}},\"id\":\"2210\",\"type\":\"GlyphRenderer\"},{\"attributes\":{},\"id\":\"2179\",\"type\":\"Selection\"},{\"attributes\":{},\"id\":\"2205\",\"type\":\"Selection\"}],\"root_ids\":[\"2064\"]},\"title\":\"Bokeh Application\",\"version\":\"2.3.2\"}};\n",
       "    var render_items = [{\"docid\":\"a359ecf2-e8ad-4eeb-9100-353931b86bf1\",\"root_ids\":[\"2064\"],\"roots\":{\"2064\":\"a56bcfb1-f547-4f06-ac50-f62379c4d92c\"}}];\n",
       "    root.Bokeh.embed.embed_items_notebook(docs_json, render_items);\n",
       "  }\n",
       "  if (root.Bokeh !== undefined && root.Bokeh.Panel !== undefined) {\n",
       "    embed_document(root);\n",
       "  } else {\n",
       "    var attempts = 0;\n",
       "    var timer = setInterval(function(root) {\n",
       "      if (root.Bokeh !== undefined && root.Bokeh.Panel !== undefined) {\n",
       "        clearInterval(timer);\n",
       "        embed_document(root);\n",
       "      } else if (document.readyState == \"complete\") {\n",
       "        attempts++;\n",
       "        if (attempts > 200) {\n",
       "          clearInterval(timer);\n",
       "          console.log(\"Bokeh: ERROR: Unable to run BokehJS code because BokehJS library is missing\");\n",
       "        }\n",
       "      }\n",
       "    }, 25, root)\n",
       "  }\n",
       "})(window);</script>"
      ],
      "text/plain": [
       ":NdOverlay   [class]\n",
       "   :Scatter   [AnnualIncome]   (SpendingScore)"
      ]
     },
     "execution_count": 27,
     "metadata": {
      "application/vnd.holoviews_exec.v0+json": {
       "id": "2064"
      }
     },
     "output_type": "execute_result"
    }
   ],
   "source": [
    "test_cluster_amount(df_shopping, 7)\n",
    "df_shopping.hvplot.scatter(x=\"AnnualIncome\", y=\"SpendingScore\", by=\"class\")"
   ]
  },
  {
   "cell_type": "code",
   "execution_count": 28,
   "id": "3b25cf75",
   "metadata": {},
   "outputs": [
    {
     "data": {
      "application/vnd.plotly.v1+json": {
       "config": {
        "plotlyServerURL": "https://plot.ly"
       },
       "data": [
        {
         "hovertemplate": "class=%{marker.color}<br>AnnualIncome=%{x}<br>SpendingScore=%{y}<br>Age=%{z}<extra></extra>",
         "legendgroup": "1",
         "marker": {
          "color": [
           1,
           1,
           1,
           1,
           1,
           1,
           1,
           1,
           1,
           1,
           1,
           1,
           1,
           1,
           1,
           1,
           1,
           1,
           1,
           1,
           1,
           1,
           1,
           1,
           1,
           1,
           1,
           1,
           1,
           1,
           1,
           1
          ],
          "coloraxis": "coloraxis",
          "symbol": "circle"
         },
         "mode": "markers",
         "name": "1",
         "scene": "scene",
         "showlegend": true,
         "type": "scatter3d",
         "x": [
          15000,
          15000,
          16000,
          16000,
          17000,
          17000,
          18000,
          18000,
          19000,
          19000,
          19000,
          19000,
          20000,
          20000,
          20000,
          20000,
          21000,
          21000,
          23000,
          23000,
          24000,
          24000,
          25000,
          25000,
          28000,
          28000,
          28000,
          28000,
          29000,
          29000,
          30000,
          30000
         ],
         "y": [
          39,
          81,
          6,
          77,
          40,
          76,
          6,
          94,
          3,
          72,
          14,
          99,
          15,
          77,
          13,
          79,
          35,
          66,
          29,
          98,
          35,
          73,
          5,
          73,
          14,
          82,
          32,
          61,
          31,
          87,
          4,
          73
         ],
         "z": [
          19,
          21,
          20,
          23,
          31,
          22,
          35,
          23,
          64,
          30,
          67,
          35,
          58,
          24,
          37,
          22,
          35,
          20,
          52,
          35,
          35,
          25,
          46,
          31,
          54,
          29,
          45,
          35,
          40,
          23,
          60,
          21
         ]
        },
        {
         "hovertemplate": "class=%{marker.color}<br>AnnualIncome=%{x}<br>SpendingScore=%{y}<br>Age=%{z}<extra></extra>",
         "legendgroup": "4",
         "marker": {
          "color": [
           4,
           4,
           4,
           4,
           4,
           4,
           4,
           4,
           4,
           4,
           4,
           4,
           4,
           4,
           4,
           4,
           4,
           4,
           4,
           4,
           4,
           4,
           4,
           4,
           4,
           4,
           4,
           4,
           4,
           4,
           4,
           4,
           4,
           4,
           4,
           4,
           4,
           4,
           4,
           4,
           4,
           4
          ],
          "coloraxis": "coloraxis",
          "symbol": "diamond"
         },
         "mode": "markers",
         "name": "4",
         "scene": "scene",
         "showlegend": true,
         "type": "scatter3d",
         "x": [
          33000,
          33000,
          33000,
          33000,
          34000,
          34000,
          37000,
          37000,
          38000,
          38000,
          39000,
          39000,
          39000,
          39000,
          40000,
          40000,
          40000,
          40000,
          42000,
          42000,
          43000,
          43000,
          43000,
          43000,
          44000,
          44000,
          46000,
          46000,
          46000,
          46000,
          47000,
          47000,
          48000,
          48000,
          48000,
          48000,
          48000,
          48000,
          49000,
          49000,
          50000,
          50000
         ],
         "y": [
          4,
          92,
          14,
          81,
          17,
          73,
          26,
          75,
          35,
          92,
          36,
          61,
          28,
          65,
          55,
          47,
          42,
          42,
          52,
          60,
          54,
          60,
          45,
          41,
          50,
          46,
          51,
          46,
          56,
          55,
          52,
          59,
          51,
          59,
          50,
          48,
          59,
          47,
          55,
          42,
          49,
          56
         ],
         "z": [
          53,
          18,
          49,
          21,
          42,
          30,
          36,
          20,
          65,
          24,
          48,
          31,
          49,
          24,
          50,
          27,
          29,
          31,
          49,
          33,
          31,
          59,
          50,
          47,
          51,
          69,
          27,
          53,
          70,
          19,
          67,
          54,
          63,
          18,
          43,
          68,
          19,
          32,
          70,
          47,
          60,
          60
         ]
        },
        {
         "hovertemplate": "class=%{marker.color}<br>AnnualIncome=%{x}<br>SpendingScore=%{y}<br>Age=%{z}<extra></extra>",
         "legendgroup": "0",
         "marker": {
          "color": [
           0,
           0,
           0,
           0,
           0,
           0,
           0,
           0,
           0,
           0,
           0,
           0,
           0,
           0,
           0,
           0,
           0,
           0,
           0,
           0,
           0,
           0,
           0,
           0,
           0,
           0,
           0,
           0,
           0,
           0,
           0,
           0,
           0,
           0,
           0,
           0,
           0,
           0,
           0,
           0,
           0,
           0,
           0,
           0,
           0,
           0,
           0,
           0
          ],
          "coloraxis": "coloraxis",
          "symbol": "square"
         },
         "mode": "markers",
         "name": "0",
         "scene": "scene",
         "showlegend": true,
         "type": "scatter3d",
         "x": [
          54000,
          54000,
          54000,
          54000,
          54000,
          54000,
          54000,
          54000,
          54000,
          54000,
          54000,
          54000,
          57000,
          57000,
          58000,
          58000,
          59000,
          59000,
          60000,
          60000,
          60000,
          60000,
          60000,
          60000,
          61000,
          61000,
          62000,
          62000,
          62000,
          62000,
          62000,
          62000,
          63000,
          63000,
          63000,
          63000,
          63000,
          63000,
          64000,
          64000,
          65000,
          65000,
          65000,
          65000,
          67000,
          67000,
          67000,
          67000
         ],
         "y": [
          47,
          54,
          53,
          48,
          52,
          42,
          51,
          55,
          41,
          44,
          57,
          46,
          58,
          55,
          60,
          46,
          55,
          41,
          49,
          40,
          42,
          52,
          47,
          50,
          42,
          49,
          41,
          48,
          59,
          55,
          56,
          42,
          50,
          46,
          43,
          48,
          52,
          54,
          42,
          46,
          48,
          50,
          43,
          59,
          43,
          57,
          56,
          40
         ],
         "z": [
          59,
          26,
          45,
          40,
          23,
          49,
          57,
          38,
          67,
          46,
          21,
          48,
          55,
          22,
          34,
          50,
          68,
          18,
          48,
          40,
          32,
          24,
          47,
          27,
          48,
          20,
          23,
          49,
          67,
          26,
          49,
          21,
          66,
          54,
          68,
          66,
          65,
          19,
          38,
          19,
          18,
          19,
          63,
          49,
          51,
          50,
          27,
          38
         ]
        },
        {
         "hovertemplate": "class=%{marker.color}<br>AnnualIncome=%{x}<br>SpendingScore=%{y}<br>Age=%{z}<extra></extra>",
         "legendgroup": "6",
         "marker": {
          "color": [
           6,
           6,
           6,
           6,
           6,
           6,
           6,
           6,
           6,
           6,
           6,
           6,
           6,
           6,
           6,
           6,
           6,
           6,
           6,
           6,
           6,
           6,
           6,
           6,
           6,
           6,
           6,
           6,
           6,
           6,
           6,
           6,
           6,
           6,
           6,
           6,
           6,
           6,
           6,
           6
          ],
          "coloraxis": "coloraxis",
          "symbol": "x"
         },
         "mode": "markers",
         "name": "6",
         "scene": "scene",
         "showlegend": true,
         "type": "scatter3d",
         "x": [
          69000,
          69000,
          70000,
          70000,
          71000,
          71000,
          71000,
          71000,
          71000,
          71000,
          72000,
          72000,
          73000,
          73000,
          73000,
          73000,
          74000,
          74000,
          75000,
          75000,
          76000,
          76000,
          77000,
          77000,
          77000,
          77000,
          78000,
          78000,
          78000,
          78000,
          78000,
          78000,
          78000,
          78000,
          78000,
          78000,
          78000,
          78000,
          79000,
          79000
         ],
         "y": [
          58,
          91,
          29,
          77,
          35,
          95,
          11,
          75,
          9,
          75,
          34,
          71,
          5,
          88,
          7,
          73,
          10,
          72,
          5,
          93,
          40,
          87,
          12,
          97,
          36,
          74,
          22,
          90,
          17,
          88,
          20,
          76,
          16,
          89,
          1,
          78,
          1,
          73,
          35,
          83
         ],
         "z": [
          40,
          39,
          23,
          31,
          43,
          40,
          59,
          38,
          47,
          39,
          25,
          31,
          20,
          29,
          44,
          32,
          19,
          35,
          57,
          32,
          28,
          32,
          25,
          28,
          48,
          32,
          34,
          34,
          43,
          39,
          44,
          38,
          47,
          27,
          37,
          30,
          34,
          30,
          56,
          29
         ]
        },
        {
         "hovertemplate": "class=%{marker.color}<br>AnnualIncome=%{x}<br>SpendingScore=%{y}<br>Age=%{z}<extra></extra>",
         "legendgroup": "2",
         "marker": {
          "color": [
           2,
           2,
           2,
           2,
           2,
           2,
           2,
           2,
           2,
           2,
           2,
           2,
           2,
           2,
           2,
           2,
           2,
           2,
           2
          ],
          "coloraxis": "coloraxis",
          "symbol": "cross"
         },
         "mode": "markers",
         "name": "2",
         "scene": "scene",
         "showlegend": true,
         "type": "scatter3d",
         "x": [
          81000,
          81000,
          85000,
          85000,
          86000,
          86000,
          87000,
          87000,
          87000,
          87000,
          87000,
          87000,
          87000,
          88000,
          88000,
          88000,
          88000,
          93000,
          93000
         ],
         "y": [
          5,
          93,
          26,
          75,
          20,
          95,
          27,
          63,
          13,
          75,
          10,
          92,
          44,
          13,
          86,
          15,
          69,
          14,
          90
         ],
         "z": [
          19,
          31,
          50,
          36,
          42,
          33,
          36,
          32,
          40,
          28,
          36,
          36,
          22,
          52,
          30,
          58,
          27,
          59,
          35
         ]
        },
        {
         "hovertemplate": "class=%{marker.color}<br>AnnualIncome=%{x}<br>SpendingScore=%{y}<br>Age=%{z}<extra></extra>",
         "legendgroup": "5",
         "marker": {
          "color": [
           5,
           5,
           5,
           5,
           5,
           5,
           5,
           5,
           5,
           5,
           5,
           5,
           5,
           5
          ],
          "coloraxis": "coloraxis",
          "symbol": "circle"
         },
         "mode": "markers",
         "name": "5",
         "scene": "scene",
         "showlegend": true,
         "type": "scatter3d",
         "x": [
          97000,
          97000,
          98000,
          98000,
          99000,
          99000,
          101000,
          101000,
          103000,
          103000,
          103000,
          103000,
          113000,
          113000
         ],
         "y": [
          32,
          86,
          15,
          88,
          39,
          97,
          24,
          68,
          17,
          85,
          23,
          69,
          8,
          91
         ],
         "z": [
          37,
          32,
          46,
          29,
          41,
          30,
          54,
          28,
          41,
          36,
          34,
          32,
          33,
          38
         ]
        },
        {
         "hovertemplate": "class=%{marker.color}<br>AnnualIncome=%{x}<br>SpendingScore=%{y}<br>Age=%{z}<extra></extra>",
         "legendgroup": "3",
         "marker": {
          "color": [
           3,
           3,
           3,
           3,
           3,
           3
          ],
          "coloraxis": "coloraxis",
          "symbol": "diamond"
         },
         "mode": "markers",
         "name": "3",
         "scene": "scene",
         "showlegend": true,
         "type": "scatter3d",
         "x": [
          120000,
          120000,
          126000,
          126000,
          137000,
          137000
         ],
         "y": [
          16,
          79,
          28,
          74,
          18,
          83
         ],
         "z": [
          47,
          35,
          45,
          32,
          32,
          30
         ]
        }
       ],
       "layout": {
        "coloraxis": {
         "colorbar": {
          "title": {
           "text": "class"
          }
         },
         "colorscale": [
          [
           0,
           "#0d0887"
          ],
          [
           0.1111111111111111,
           "#46039f"
          ],
          [
           0.2222222222222222,
           "#7201a8"
          ],
          [
           0.3333333333333333,
           "#9c179e"
          ],
          [
           0.4444444444444444,
           "#bd3786"
          ],
          [
           0.5555555555555556,
           "#d8576b"
          ],
          [
           0.6666666666666666,
           "#ed7953"
          ],
          [
           0.7777777777777778,
           "#fb9f3a"
          ],
          [
           0.8888888888888888,
           "#fdca26"
          ],
          [
           1,
           "#f0f921"
          ]
         ]
        },
        "legend": {
         "title": {
          "text": "class"
         },
         "tracegroupgap": 0,
         "x": 0,
         "y": 1
        },
        "margin": {
         "t": 60
        },
        "scene": {
         "domain": {
          "x": [
           0,
           1
          ],
          "y": [
           0,
           1
          ]
         },
         "xaxis": {
          "title": {
           "text": "AnnualIncome"
          }
         },
         "yaxis": {
          "title": {
           "text": "SpendingScore"
          }
         },
         "zaxis": {
          "title": {
           "text": "Age"
          }
         }
        },
        "template": {
         "data": {
          "bar": [
           {
            "error_x": {
             "color": "#2a3f5f"
            },
            "error_y": {
             "color": "#2a3f5f"
            },
            "marker": {
             "line": {
              "color": "#E5ECF6",
              "width": 0.5
             },
             "pattern": {
              "fillmode": "overlay",
              "size": 10,
              "solidity": 0.2
             }
            },
            "type": "bar"
           }
          ],
          "barpolar": [
           {
            "marker": {
             "line": {
              "color": "#E5ECF6",
              "width": 0.5
             },
             "pattern": {
              "fillmode": "overlay",
              "size": 10,
              "solidity": 0.2
             }
            },
            "type": "barpolar"
           }
          ],
          "carpet": [
           {
            "aaxis": {
             "endlinecolor": "#2a3f5f",
             "gridcolor": "white",
             "linecolor": "white",
             "minorgridcolor": "white",
             "startlinecolor": "#2a3f5f"
            },
            "baxis": {
             "endlinecolor": "#2a3f5f",
             "gridcolor": "white",
             "linecolor": "white",
             "minorgridcolor": "white",
             "startlinecolor": "#2a3f5f"
            },
            "type": "carpet"
           }
          ],
          "choropleth": [
           {
            "colorbar": {
             "outlinewidth": 0,
             "ticks": ""
            },
            "type": "choropleth"
           }
          ],
          "contour": [
           {
            "colorbar": {
             "outlinewidth": 0,
             "ticks": ""
            },
            "colorscale": [
             [
              0,
              "#0d0887"
             ],
             [
              0.1111111111111111,
              "#46039f"
             ],
             [
              0.2222222222222222,
              "#7201a8"
             ],
             [
              0.3333333333333333,
              "#9c179e"
             ],
             [
              0.4444444444444444,
              "#bd3786"
             ],
             [
              0.5555555555555556,
              "#d8576b"
             ],
             [
              0.6666666666666666,
              "#ed7953"
             ],
             [
              0.7777777777777778,
              "#fb9f3a"
             ],
             [
              0.8888888888888888,
              "#fdca26"
             ],
             [
              1,
              "#f0f921"
             ]
            ],
            "type": "contour"
           }
          ],
          "contourcarpet": [
           {
            "colorbar": {
             "outlinewidth": 0,
             "ticks": ""
            },
            "type": "contourcarpet"
           }
          ],
          "heatmap": [
           {
            "colorbar": {
             "outlinewidth": 0,
             "ticks": ""
            },
            "colorscale": [
             [
              0,
              "#0d0887"
             ],
             [
              0.1111111111111111,
              "#46039f"
             ],
             [
              0.2222222222222222,
              "#7201a8"
             ],
             [
              0.3333333333333333,
              "#9c179e"
             ],
             [
              0.4444444444444444,
              "#bd3786"
             ],
             [
              0.5555555555555556,
              "#d8576b"
             ],
             [
              0.6666666666666666,
              "#ed7953"
             ],
             [
              0.7777777777777778,
              "#fb9f3a"
             ],
             [
              0.8888888888888888,
              "#fdca26"
             ],
             [
              1,
              "#f0f921"
             ]
            ],
            "type": "heatmap"
           }
          ],
          "heatmapgl": [
           {
            "colorbar": {
             "outlinewidth": 0,
             "ticks": ""
            },
            "colorscale": [
             [
              0,
              "#0d0887"
             ],
             [
              0.1111111111111111,
              "#46039f"
             ],
             [
              0.2222222222222222,
              "#7201a8"
             ],
             [
              0.3333333333333333,
              "#9c179e"
             ],
             [
              0.4444444444444444,
              "#bd3786"
             ],
             [
              0.5555555555555556,
              "#d8576b"
             ],
             [
              0.6666666666666666,
              "#ed7953"
             ],
             [
              0.7777777777777778,
              "#fb9f3a"
             ],
             [
              0.8888888888888888,
              "#fdca26"
             ],
             [
              1,
              "#f0f921"
             ]
            ],
            "type": "heatmapgl"
           }
          ],
          "histogram": [
           {
            "marker": {
             "pattern": {
              "fillmode": "overlay",
              "size": 10,
              "solidity": 0.2
             }
            },
            "type": "histogram"
           }
          ],
          "histogram2d": [
           {
            "colorbar": {
             "outlinewidth": 0,
             "ticks": ""
            },
            "colorscale": [
             [
              0,
              "#0d0887"
             ],
             [
              0.1111111111111111,
              "#46039f"
             ],
             [
              0.2222222222222222,
              "#7201a8"
             ],
             [
              0.3333333333333333,
              "#9c179e"
             ],
             [
              0.4444444444444444,
              "#bd3786"
             ],
             [
              0.5555555555555556,
              "#d8576b"
             ],
             [
              0.6666666666666666,
              "#ed7953"
             ],
             [
              0.7777777777777778,
              "#fb9f3a"
             ],
             [
              0.8888888888888888,
              "#fdca26"
             ],
             [
              1,
              "#f0f921"
             ]
            ],
            "type": "histogram2d"
           }
          ],
          "histogram2dcontour": [
           {
            "colorbar": {
             "outlinewidth": 0,
             "ticks": ""
            },
            "colorscale": [
             [
              0,
              "#0d0887"
             ],
             [
              0.1111111111111111,
              "#46039f"
             ],
             [
              0.2222222222222222,
              "#7201a8"
             ],
             [
              0.3333333333333333,
              "#9c179e"
             ],
             [
              0.4444444444444444,
              "#bd3786"
             ],
             [
              0.5555555555555556,
              "#d8576b"
             ],
             [
              0.6666666666666666,
              "#ed7953"
             ],
             [
              0.7777777777777778,
              "#fb9f3a"
             ],
             [
              0.8888888888888888,
              "#fdca26"
             ],
             [
              1,
              "#f0f921"
             ]
            ],
            "type": "histogram2dcontour"
           }
          ],
          "mesh3d": [
           {
            "colorbar": {
             "outlinewidth": 0,
             "ticks": ""
            },
            "type": "mesh3d"
           }
          ],
          "parcoords": [
           {
            "line": {
             "colorbar": {
              "outlinewidth": 0,
              "ticks": ""
             }
            },
            "type": "parcoords"
           }
          ],
          "pie": [
           {
            "automargin": true,
            "type": "pie"
           }
          ],
          "scatter": [
           {
            "marker": {
             "colorbar": {
              "outlinewidth": 0,
              "ticks": ""
             }
            },
            "type": "scatter"
           }
          ],
          "scatter3d": [
           {
            "line": {
             "colorbar": {
              "outlinewidth": 0,
              "ticks": ""
             }
            },
            "marker": {
             "colorbar": {
              "outlinewidth": 0,
              "ticks": ""
             }
            },
            "type": "scatter3d"
           }
          ],
          "scattercarpet": [
           {
            "marker": {
             "colorbar": {
              "outlinewidth": 0,
              "ticks": ""
             }
            },
            "type": "scattercarpet"
           }
          ],
          "scattergeo": [
           {
            "marker": {
             "colorbar": {
              "outlinewidth": 0,
              "ticks": ""
             }
            },
            "type": "scattergeo"
           }
          ],
          "scattergl": [
           {
            "marker": {
             "colorbar": {
              "outlinewidth": 0,
              "ticks": ""
             }
            },
            "type": "scattergl"
           }
          ],
          "scattermapbox": [
           {
            "marker": {
             "colorbar": {
              "outlinewidth": 0,
              "ticks": ""
             }
            },
            "type": "scattermapbox"
           }
          ],
          "scatterpolar": [
           {
            "marker": {
             "colorbar": {
              "outlinewidth": 0,
              "ticks": ""
             }
            },
            "type": "scatterpolar"
           }
          ],
          "scatterpolargl": [
           {
            "marker": {
             "colorbar": {
              "outlinewidth": 0,
              "ticks": ""
             }
            },
            "type": "scatterpolargl"
           }
          ],
          "scatterternary": [
           {
            "marker": {
             "colorbar": {
              "outlinewidth": 0,
              "ticks": ""
             }
            },
            "type": "scatterternary"
           }
          ],
          "surface": [
           {
            "colorbar": {
             "outlinewidth": 0,
             "ticks": ""
            },
            "colorscale": [
             [
              0,
              "#0d0887"
             ],
             [
              0.1111111111111111,
              "#46039f"
             ],
             [
              0.2222222222222222,
              "#7201a8"
             ],
             [
              0.3333333333333333,
              "#9c179e"
             ],
             [
              0.4444444444444444,
              "#bd3786"
             ],
             [
              0.5555555555555556,
              "#d8576b"
             ],
             [
              0.6666666666666666,
              "#ed7953"
             ],
             [
              0.7777777777777778,
              "#fb9f3a"
             ],
             [
              0.8888888888888888,
              "#fdca26"
             ],
             [
              1,
              "#f0f921"
             ]
            ],
            "type": "surface"
           }
          ],
          "table": [
           {
            "cells": {
             "fill": {
              "color": "#EBF0F8"
             },
             "line": {
              "color": "white"
             }
            },
            "header": {
             "fill": {
              "color": "#C8D4E3"
             },
             "line": {
              "color": "white"
             }
            },
            "type": "table"
           }
          ]
         },
         "layout": {
          "annotationdefaults": {
           "arrowcolor": "#2a3f5f",
           "arrowhead": 0,
           "arrowwidth": 1
          },
          "autotypenumbers": "strict",
          "coloraxis": {
           "colorbar": {
            "outlinewidth": 0,
            "ticks": ""
           }
          },
          "colorscale": {
           "diverging": [
            [
             0,
             "#8e0152"
            ],
            [
             0.1,
             "#c51b7d"
            ],
            [
             0.2,
             "#de77ae"
            ],
            [
             0.3,
             "#f1b6da"
            ],
            [
             0.4,
             "#fde0ef"
            ],
            [
             0.5,
             "#f7f7f7"
            ],
            [
             0.6,
             "#e6f5d0"
            ],
            [
             0.7,
             "#b8e186"
            ],
            [
             0.8,
             "#7fbc41"
            ],
            [
             0.9,
             "#4d9221"
            ],
            [
             1,
             "#276419"
            ]
           ],
           "sequential": [
            [
             0,
             "#0d0887"
            ],
            [
             0.1111111111111111,
             "#46039f"
            ],
            [
             0.2222222222222222,
             "#7201a8"
            ],
            [
             0.3333333333333333,
             "#9c179e"
            ],
            [
             0.4444444444444444,
             "#bd3786"
            ],
            [
             0.5555555555555556,
             "#d8576b"
            ],
            [
             0.6666666666666666,
             "#ed7953"
            ],
            [
             0.7777777777777778,
             "#fb9f3a"
            ],
            [
             0.8888888888888888,
             "#fdca26"
            ],
            [
             1,
             "#f0f921"
            ]
           ],
           "sequentialminus": [
            [
             0,
             "#0d0887"
            ],
            [
             0.1111111111111111,
             "#46039f"
            ],
            [
             0.2222222222222222,
             "#7201a8"
            ],
            [
             0.3333333333333333,
             "#9c179e"
            ],
            [
             0.4444444444444444,
             "#bd3786"
            ],
            [
             0.5555555555555556,
             "#d8576b"
            ],
            [
             0.6666666666666666,
             "#ed7953"
            ],
            [
             0.7777777777777778,
             "#fb9f3a"
            ],
            [
             0.8888888888888888,
             "#fdca26"
            ],
            [
             1,
             "#f0f921"
            ]
           ]
          },
          "colorway": [
           "#636efa",
           "#EF553B",
           "#00cc96",
           "#ab63fa",
           "#FFA15A",
           "#19d3f3",
           "#FF6692",
           "#B6E880",
           "#FF97FF",
           "#FECB52"
          ],
          "font": {
           "color": "#2a3f5f"
          },
          "geo": {
           "bgcolor": "white",
           "lakecolor": "white",
           "landcolor": "#E5ECF6",
           "showlakes": true,
           "showland": true,
           "subunitcolor": "white"
          },
          "hoverlabel": {
           "align": "left"
          },
          "hovermode": "closest",
          "mapbox": {
           "style": "light"
          },
          "paper_bgcolor": "white",
          "plot_bgcolor": "#E5ECF6",
          "polar": {
           "angularaxis": {
            "gridcolor": "white",
            "linecolor": "white",
            "ticks": ""
           },
           "bgcolor": "#E5ECF6",
           "radialaxis": {
            "gridcolor": "white",
            "linecolor": "white",
            "ticks": ""
           }
          },
          "scene": {
           "xaxis": {
            "backgroundcolor": "#E5ECF6",
            "gridcolor": "white",
            "gridwidth": 2,
            "linecolor": "white",
            "showbackground": true,
            "ticks": "",
            "zerolinecolor": "white"
           },
           "yaxis": {
            "backgroundcolor": "#E5ECF6",
            "gridcolor": "white",
            "gridwidth": 2,
            "linecolor": "white",
            "showbackground": true,
            "ticks": "",
            "zerolinecolor": "white"
           },
           "zaxis": {
            "backgroundcolor": "#E5ECF6",
            "gridcolor": "white",
            "gridwidth": 2,
            "linecolor": "white",
            "showbackground": true,
            "ticks": "",
            "zerolinecolor": "white"
           }
          },
          "shapedefaults": {
           "line": {
            "color": "#2a3f5f"
           }
          },
          "ternary": {
           "aaxis": {
            "gridcolor": "white",
            "linecolor": "white",
            "ticks": ""
           },
           "baxis": {
            "gridcolor": "white",
            "linecolor": "white",
            "ticks": ""
           },
           "bgcolor": "#E5ECF6",
           "caxis": {
            "gridcolor": "white",
            "linecolor": "white",
            "ticks": ""
           }
          },
          "title": {
           "x": 0.05
          },
          "xaxis": {
           "automargin": true,
           "gridcolor": "white",
           "linecolor": "white",
           "ticks": "",
           "title": {
            "standoff": 15
           },
           "zerolinecolor": "white",
           "zerolinewidth": 2
          },
          "yaxis": {
           "automargin": true,
           "gridcolor": "white",
           "linecolor": "white",
           "ticks": "",
           "title": {
            "standoff": 15
           },
           "zerolinecolor": "white",
           "zerolinewidth": 2
          }
         }
        },
        "width": 800
       }
      },
      "text/html": [
       "<div>                            <div id=\"550cd8a8-6a10-46b8-8b4f-931445e0964b\" class=\"plotly-graph-div\" style=\"height:525px; width:800px;\"></div>            <script type=\"text/javascript\">                require([\"plotly\"], function(Plotly) {                    window.PLOTLYENV=window.PLOTLYENV || {};                                    if (document.getElementById(\"550cd8a8-6a10-46b8-8b4f-931445e0964b\")) {                    Plotly.newPlot(                        \"550cd8a8-6a10-46b8-8b4f-931445e0964b\",                        [{\"hovertemplate\":\"class=%{marker.color}<br>AnnualIncome=%{x}<br>SpendingScore=%{y}<br>Age=%{z}<extra></extra>\",\"legendgroup\":\"1\",\"marker\":{\"color\":[1,1,1,1,1,1,1,1,1,1,1,1,1,1,1,1,1,1,1,1,1,1,1,1,1,1,1,1,1,1,1,1],\"coloraxis\":\"coloraxis\",\"symbol\":\"circle\"},\"mode\":\"markers\",\"name\":\"1\",\"scene\":\"scene\",\"showlegend\":true,\"type\":\"scatter3d\",\"x\":[15000,15000,16000,16000,17000,17000,18000,18000,19000,19000,19000,19000,20000,20000,20000,20000,21000,21000,23000,23000,24000,24000,25000,25000,28000,28000,28000,28000,29000,29000,30000,30000],\"y\":[39.0,81.0,6.0,77.0,40.0,76.0,6.0,94.0,3.0,72.0,14.0,99.0,15.0,77.0,13.0,79.0,35.0,66.0,29.0,98.0,35.0,73.0,5.0,73.0,14.0,82.0,32.0,61.0,31.0,87.0,4.0,73.0],\"z\":[19.0,21.0,20.0,23.0,31.0,22.0,35.0,23.0,64.0,30.0,67.0,35.0,58.0,24.0,37.0,22.0,35.0,20.0,52.0,35.0,35.0,25.0,46.0,31.0,54.0,29.0,45.0,35.0,40.0,23.0,60.0,21.0]},{\"hovertemplate\":\"class=%{marker.color}<br>AnnualIncome=%{x}<br>SpendingScore=%{y}<br>Age=%{z}<extra></extra>\",\"legendgroup\":\"4\",\"marker\":{\"color\":[4,4,4,4,4,4,4,4,4,4,4,4,4,4,4,4,4,4,4,4,4,4,4,4,4,4,4,4,4,4,4,4,4,4,4,4,4,4,4,4,4,4],\"coloraxis\":\"coloraxis\",\"symbol\":\"diamond\"},\"mode\":\"markers\",\"name\":\"4\",\"scene\":\"scene\",\"showlegend\":true,\"type\":\"scatter3d\",\"x\":[33000,33000,33000,33000,34000,34000,37000,37000,38000,38000,39000,39000,39000,39000,40000,40000,40000,40000,42000,42000,43000,43000,43000,43000,44000,44000,46000,46000,46000,46000,47000,47000,48000,48000,48000,48000,48000,48000,49000,49000,50000,50000],\"y\":[4.0,92.0,14.0,81.0,17.0,73.0,26.0,75.0,35.0,92.0,36.0,61.0,28.0,65.0,55.0,47.0,42.0,42.0,52.0,60.0,54.0,60.0,45.0,41.0,50.0,46.0,51.0,46.0,56.0,55.0,52.0,59.0,51.0,59.0,50.0,48.0,59.0,47.0,55.0,42.0,49.0,56.0],\"z\":[53.0,18.0,49.0,21.0,42.0,30.0,36.0,20.0,65.0,24.0,48.0,31.0,49.0,24.0,50.0,27.0,29.0,31.0,49.0,33.0,31.0,59.0,50.0,47.0,51.0,69.0,27.0,53.0,70.0,19.0,67.0,54.0,63.0,18.0,43.0,68.0,19.0,32.0,70.0,47.0,60.0,60.0]},{\"hovertemplate\":\"class=%{marker.color}<br>AnnualIncome=%{x}<br>SpendingScore=%{y}<br>Age=%{z}<extra></extra>\",\"legendgroup\":\"0\",\"marker\":{\"color\":[0,0,0,0,0,0,0,0,0,0,0,0,0,0,0,0,0,0,0,0,0,0,0,0,0,0,0,0,0,0,0,0,0,0,0,0,0,0,0,0,0,0,0,0,0,0,0,0],\"coloraxis\":\"coloraxis\",\"symbol\":\"square\"},\"mode\":\"markers\",\"name\":\"0\",\"scene\":\"scene\",\"showlegend\":true,\"type\":\"scatter3d\",\"x\":[54000,54000,54000,54000,54000,54000,54000,54000,54000,54000,54000,54000,57000,57000,58000,58000,59000,59000,60000,60000,60000,60000,60000,60000,61000,61000,62000,62000,62000,62000,62000,62000,63000,63000,63000,63000,63000,63000,64000,64000,65000,65000,65000,65000,67000,67000,67000,67000],\"y\":[47.0,54.0,53.0,48.0,52.0,42.0,51.0,55.0,41.0,44.0,57.0,46.0,58.0,55.0,60.0,46.0,55.0,41.0,49.0,40.0,42.0,52.0,47.0,50.0,42.0,49.0,41.0,48.0,59.0,55.0,56.0,42.0,50.0,46.0,43.0,48.0,52.0,54.0,42.0,46.0,48.0,50.0,43.0,59.0,43.0,57.0,56.0,40.0],\"z\":[59.0,26.0,45.0,40.0,23.0,49.0,57.0,38.0,67.0,46.0,21.0,48.0,55.0,22.0,34.0,50.0,68.0,18.0,48.0,40.0,32.0,24.0,47.0,27.0,48.0,20.0,23.0,49.0,67.0,26.0,49.0,21.0,66.0,54.0,68.0,66.0,65.0,19.0,38.0,19.0,18.0,19.0,63.0,49.0,51.0,50.0,27.0,38.0]},{\"hovertemplate\":\"class=%{marker.color}<br>AnnualIncome=%{x}<br>SpendingScore=%{y}<br>Age=%{z}<extra></extra>\",\"legendgroup\":\"6\",\"marker\":{\"color\":[6,6,6,6,6,6,6,6,6,6,6,6,6,6,6,6,6,6,6,6,6,6,6,6,6,6,6,6,6,6,6,6,6,6,6,6,6,6,6,6],\"coloraxis\":\"coloraxis\",\"symbol\":\"x\"},\"mode\":\"markers\",\"name\":\"6\",\"scene\":\"scene\",\"showlegend\":true,\"type\":\"scatter3d\",\"x\":[69000,69000,70000,70000,71000,71000,71000,71000,71000,71000,72000,72000,73000,73000,73000,73000,74000,74000,75000,75000,76000,76000,77000,77000,77000,77000,78000,78000,78000,78000,78000,78000,78000,78000,78000,78000,78000,78000,79000,79000],\"y\":[58.0,91.0,29.0,77.0,35.0,95.0,11.0,75.0,9.0,75.0,34.0,71.0,5.0,88.0,7.0,73.0,10.0,72.0,5.0,93.0,40.0,87.0,12.0,97.0,36.0,74.0,22.0,90.0,17.0,88.0,20.0,76.0,16.0,89.0,1.0,78.0,1.0,73.0,35.0,83.0],\"z\":[40.0,39.0,23.0,31.0,43.0,40.0,59.0,38.0,47.0,39.0,25.0,31.0,20.0,29.0,44.0,32.0,19.0,35.0,57.0,32.0,28.0,32.0,25.0,28.0,48.0,32.0,34.0,34.0,43.0,39.0,44.0,38.0,47.0,27.0,37.0,30.0,34.0,30.0,56.0,29.0]},{\"hovertemplate\":\"class=%{marker.color}<br>AnnualIncome=%{x}<br>SpendingScore=%{y}<br>Age=%{z}<extra></extra>\",\"legendgroup\":\"2\",\"marker\":{\"color\":[2,2,2,2,2,2,2,2,2,2,2,2,2,2,2,2,2,2,2],\"coloraxis\":\"coloraxis\",\"symbol\":\"cross\"},\"mode\":\"markers\",\"name\":\"2\",\"scene\":\"scene\",\"showlegend\":true,\"type\":\"scatter3d\",\"x\":[81000,81000,85000,85000,86000,86000,87000,87000,87000,87000,87000,87000,87000,88000,88000,88000,88000,93000,93000],\"y\":[5.0,93.0,26.0,75.0,20.0,95.0,27.0,63.0,13.0,75.0,10.0,92.0,44.0,13.0,86.0,15.0,69.0,14.0,90.0],\"z\":[19.0,31.0,50.0,36.0,42.0,33.0,36.0,32.0,40.0,28.0,36.0,36.0,22.0,52.0,30.0,58.0,27.0,59.0,35.0]},{\"hovertemplate\":\"class=%{marker.color}<br>AnnualIncome=%{x}<br>SpendingScore=%{y}<br>Age=%{z}<extra></extra>\",\"legendgroup\":\"5\",\"marker\":{\"color\":[5,5,5,5,5,5,5,5,5,5,5,5,5,5],\"coloraxis\":\"coloraxis\",\"symbol\":\"circle\"},\"mode\":\"markers\",\"name\":\"5\",\"scene\":\"scene\",\"showlegend\":true,\"type\":\"scatter3d\",\"x\":[97000,97000,98000,98000,99000,99000,101000,101000,103000,103000,103000,103000,113000,113000],\"y\":[32.0,86.0,15.0,88.0,39.0,97.0,24.0,68.0,17.0,85.0,23.0,69.0,8.0,91.0],\"z\":[37.0,32.0,46.0,29.0,41.0,30.0,54.0,28.0,41.0,36.0,34.0,32.0,33.0,38.0]},{\"hovertemplate\":\"class=%{marker.color}<br>AnnualIncome=%{x}<br>SpendingScore=%{y}<br>Age=%{z}<extra></extra>\",\"legendgroup\":\"3\",\"marker\":{\"color\":[3,3,3,3,3,3],\"coloraxis\":\"coloraxis\",\"symbol\":\"diamond\"},\"mode\":\"markers\",\"name\":\"3\",\"scene\":\"scene\",\"showlegend\":true,\"type\":\"scatter3d\",\"x\":[120000,120000,126000,126000,137000,137000],\"y\":[16.0,79.0,28.0,74.0,18.0,83.0],\"z\":[47.0,35.0,45.0,32.0,32.0,30.0]}],                        {\"coloraxis\":{\"colorbar\":{\"title\":{\"text\":\"class\"}},\"colorscale\":[[0.0,\"#0d0887\"],[0.1111111111111111,\"#46039f\"],[0.2222222222222222,\"#7201a8\"],[0.3333333333333333,\"#9c179e\"],[0.4444444444444444,\"#bd3786\"],[0.5555555555555556,\"#d8576b\"],[0.6666666666666666,\"#ed7953\"],[0.7777777777777778,\"#fb9f3a\"],[0.8888888888888888,\"#fdca26\"],[1.0,\"#f0f921\"]]},\"legend\":{\"title\":{\"text\":\"class\"},\"tracegroupgap\":0,\"x\":0,\"y\":1},\"margin\":{\"t\":60},\"scene\":{\"domain\":{\"x\":[0.0,1.0],\"y\":[0.0,1.0]},\"xaxis\":{\"title\":{\"text\":\"AnnualIncome\"}},\"yaxis\":{\"title\":{\"text\":\"SpendingScore\"}},\"zaxis\":{\"title\":{\"text\":\"Age\"}}},\"template\":{\"data\":{\"bar\":[{\"error_x\":{\"color\":\"#2a3f5f\"},\"error_y\":{\"color\":\"#2a3f5f\"},\"marker\":{\"line\":{\"color\":\"#E5ECF6\",\"width\":0.5},\"pattern\":{\"fillmode\":\"overlay\",\"size\":10,\"solidity\":0.2}},\"type\":\"bar\"}],\"barpolar\":[{\"marker\":{\"line\":{\"color\":\"#E5ECF6\",\"width\":0.5},\"pattern\":{\"fillmode\":\"overlay\",\"size\":10,\"solidity\":0.2}},\"type\":\"barpolar\"}],\"carpet\":[{\"aaxis\":{\"endlinecolor\":\"#2a3f5f\",\"gridcolor\":\"white\",\"linecolor\":\"white\",\"minorgridcolor\":\"white\",\"startlinecolor\":\"#2a3f5f\"},\"baxis\":{\"endlinecolor\":\"#2a3f5f\",\"gridcolor\":\"white\",\"linecolor\":\"white\",\"minorgridcolor\":\"white\",\"startlinecolor\":\"#2a3f5f\"},\"type\":\"carpet\"}],\"choropleth\":[{\"colorbar\":{\"outlinewidth\":0,\"ticks\":\"\"},\"type\":\"choropleth\"}],\"contour\":[{\"colorbar\":{\"outlinewidth\":0,\"ticks\":\"\"},\"colorscale\":[[0.0,\"#0d0887\"],[0.1111111111111111,\"#46039f\"],[0.2222222222222222,\"#7201a8\"],[0.3333333333333333,\"#9c179e\"],[0.4444444444444444,\"#bd3786\"],[0.5555555555555556,\"#d8576b\"],[0.6666666666666666,\"#ed7953\"],[0.7777777777777778,\"#fb9f3a\"],[0.8888888888888888,\"#fdca26\"],[1.0,\"#f0f921\"]],\"type\":\"contour\"}],\"contourcarpet\":[{\"colorbar\":{\"outlinewidth\":0,\"ticks\":\"\"},\"type\":\"contourcarpet\"}],\"heatmap\":[{\"colorbar\":{\"outlinewidth\":0,\"ticks\":\"\"},\"colorscale\":[[0.0,\"#0d0887\"],[0.1111111111111111,\"#46039f\"],[0.2222222222222222,\"#7201a8\"],[0.3333333333333333,\"#9c179e\"],[0.4444444444444444,\"#bd3786\"],[0.5555555555555556,\"#d8576b\"],[0.6666666666666666,\"#ed7953\"],[0.7777777777777778,\"#fb9f3a\"],[0.8888888888888888,\"#fdca26\"],[1.0,\"#f0f921\"]],\"type\":\"heatmap\"}],\"heatmapgl\":[{\"colorbar\":{\"outlinewidth\":0,\"ticks\":\"\"},\"colorscale\":[[0.0,\"#0d0887\"],[0.1111111111111111,\"#46039f\"],[0.2222222222222222,\"#7201a8\"],[0.3333333333333333,\"#9c179e\"],[0.4444444444444444,\"#bd3786\"],[0.5555555555555556,\"#d8576b\"],[0.6666666666666666,\"#ed7953\"],[0.7777777777777778,\"#fb9f3a\"],[0.8888888888888888,\"#fdca26\"],[1.0,\"#f0f921\"]],\"type\":\"heatmapgl\"}],\"histogram\":[{\"marker\":{\"pattern\":{\"fillmode\":\"overlay\",\"size\":10,\"solidity\":0.2}},\"type\":\"histogram\"}],\"histogram2d\":[{\"colorbar\":{\"outlinewidth\":0,\"ticks\":\"\"},\"colorscale\":[[0.0,\"#0d0887\"],[0.1111111111111111,\"#46039f\"],[0.2222222222222222,\"#7201a8\"],[0.3333333333333333,\"#9c179e\"],[0.4444444444444444,\"#bd3786\"],[0.5555555555555556,\"#d8576b\"],[0.6666666666666666,\"#ed7953\"],[0.7777777777777778,\"#fb9f3a\"],[0.8888888888888888,\"#fdca26\"],[1.0,\"#f0f921\"]],\"type\":\"histogram2d\"}],\"histogram2dcontour\":[{\"colorbar\":{\"outlinewidth\":0,\"ticks\":\"\"},\"colorscale\":[[0.0,\"#0d0887\"],[0.1111111111111111,\"#46039f\"],[0.2222222222222222,\"#7201a8\"],[0.3333333333333333,\"#9c179e\"],[0.4444444444444444,\"#bd3786\"],[0.5555555555555556,\"#d8576b\"],[0.6666666666666666,\"#ed7953\"],[0.7777777777777778,\"#fb9f3a\"],[0.8888888888888888,\"#fdca26\"],[1.0,\"#f0f921\"]],\"type\":\"histogram2dcontour\"}],\"mesh3d\":[{\"colorbar\":{\"outlinewidth\":0,\"ticks\":\"\"},\"type\":\"mesh3d\"}],\"parcoords\":[{\"line\":{\"colorbar\":{\"outlinewidth\":0,\"ticks\":\"\"}},\"type\":\"parcoords\"}],\"pie\":[{\"automargin\":true,\"type\":\"pie\"}],\"scatter\":[{\"marker\":{\"colorbar\":{\"outlinewidth\":0,\"ticks\":\"\"}},\"type\":\"scatter\"}],\"scatter3d\":[{\"line\":{\"colorbar\":{\"outlinewidth\":0,\"ticks\":\"\"}},\"marker\":{\"colorbar\":{\"outlinewidth\":0,\"ticks\":\"\"}},\"type\":\"scatter3d\"}],\"scattercarpet\":[{\"marker\":{\"colorbar\":{\"outlinewidth\":0,\"ticks\":\"\"}},\"type\":\"scattercarpet\"}],\"scattergeo\":[{\"marker\":{\"colorbar\":{\"outlinewidth\":0,\"ticks\":\"\"}},\"type\":\"scattergeo\"}],\"scattergl\":[{\"marker\":{\"colorbar\":{\"outlinewidth\":0,\"ticks\":\"\"}},\"type\":\"scattergl\"}],\"scattermapbox\":[{\"marker\":{\"colorbar\":{\"outlinewidth\":0,\"ticks\":\"\"}},\"type\":\"scattermapbox\"}],\"scatterpolar\":[{\"marker\":{\"colorbar\":{\"outlinewidth\":0,\"ticks\":\"\"}},\"type\":\"scatterpolar\"}],\"scatterpolargl\":[{\"marker\":{\"colorbar\":{\"outlinewidth\":0,\"ticks\":\"\"}},\"type\":\"scatterpolargl\"}],\"scatterternary\":[{\"marker\":{\"colorbar\":{\"outlinewidth\":0,\"ticks\":\"\"}},\"type\":\"scatterternary\"}],\"surface\":[{\"colorbar\":{\"outlinewidth\":0,\"ticks\":\"\"},\"colorscale\":[[0.0,\"#0d0887\"],[0.1111111111111111,\"#46039f\"],[0.2222222222222222,\"#7201a8\"],[0.3333333333333333,\"#9c179e\"],[0.4444444444444444,\"#bd3786\"],[0.5555555555555556,\"#d8576b\"],[0.6666666666666666,\"#ed7953\"],[0.7777777777777778,\"#fb9f3a\"],[0.8888888888888888,\"#fdca26\"],[1.0,\"#f0f921\"]],\"type\":\"surface\"}],\"table\":[{\"cells\":{\"fill\":{\"color\":\"#EBF0F8\"},\"line\":{\"color\":\"white\"}},\"header\":{\"fill\":{\"color\":\"#C8D4E3\"},\"line\":{\"color\":\"white\"}},\"type\":\"table\"}]},\"layout\":{\"annotationdefaults\":{\"arrowcolor\":\"#2a3f5f\",\"arrowhead\":0,\"arrowwidth\":1},\"autotypenumbers\":\"strict\",\"coloraxis\":{\"colorbar\":{\"outlinewidth\":0,\"ticks\":\"\"}},\"colorscale\":{\"diverging\":[[0,\"#8e0152\"],[0.1,\"#c51b7d\"],[0.2,\"#de77ae\"],[0.3,\"#f1b6da\"],[0.4,\"#fde0ef\"],[0.5,\"#f7f7f7\"],[0.6,\"#e6f5d0\"],[0.7,\"#b8e186\"],[0.8,\"#7fbc41\"],[0.9,\"#4d9221\"],[1,\"#276419\"]],\"sequential\":[[0.0,\"#0d0887\"],[0.1111111111111111,\"#46039f\"],[0.2222222222222222,\"#7201a8\"],[0.3333333333333333,\"#9c179e\"],[0.4444444444444444,\"#bd3786\"],[0.5555555555555556,\"#d8576b\"],[0.6666666666666666,\"#ed7953\"],[0.7777777777777778,\"#fb9f3a\"],[0.8888888888888888,\"#fdca26\"],[1.0,\"#f0f921\"]],\"sequentialminus\":[[0.0,\"#0d0887\"],[0.1111111111111111,\"#46039f\"],[0.2222222222222222,\"#7201a8\"],[0.3333333333333333,\"#9c179e\"],[0.4444444444444444,\"#bd3786\"],[0.5555555555555556,\"#d8576b\"],[0.6666666666666666,\"#ed7953\"],[0.7777777777777778,\"#fb9f3a\"],[0.8888888888888888,\"#fdca26\"],[1.0,\"#f0f921\"]]},\"colorway\":[\"#636efa\",\"#EF553B\",\"#00cc96\",\"#ab63fa\",\"#FFA15A\",\"#19d3f3\",\"#FF6692\",\"#B6E880\",\"#FF97FF\",\"#FECB52\"],\"font\":{\"color\":\"#2a3f5f\"},\"geo\":{\"bgcolor\":\"white\",\"lakecolor\":\"white\",\"landcolor\":\"#E5ECF6\",\"showlakes\":true,\"showland\":true,\"subunitcolor\":\"white\"},\"hoverlabel\":{\"align\":\"left\"},\"hovermode\":\"closest\",\"mapbox\":{\"style\":\"light\"},\"paper_bgcolor\":\"white\",\"plot_bgcolor\":\"#E5ECF6\",\"polar\":{\"angularaxis\":{\"gridcolor\":\"white\",\"linecolor\":\"white\",\"ticks\":\"\"},\"bgcolor\":\"#E5ECF6\",\"radialaxis\":{\"gridcolor\":\"white\",\"linecolor\":\"white\",\"ticks\":\"\"}},\"scene\":{\"xaxis\":{\"backgroundcolor\":\"#E5ECF6\",\"gridcolor\":\"white\",\"gridwidth\":2,\"linecolor\":\"white\",\"showbackground\":true,\"ticks\":\"\",\"zerolinecolor\":\"white\"},\"yaxis\":{\"backgroundcolor\":\"#E5ECF6\",\"gridcolor\":\"white\",\"gridwidth\":2,\"linecolor\":\"white\",\"showbackground\":true,\"ticks\":\"\",\"zerolinecolor\":\"white\"},\"zaxis\":{\"backgroundcolor\":\"#E5ECF6\",\"gridcolor\":\"white\",\"gridwidth\":2,\"linecolor\":\"white\",\"showbackground\":true,\"ticks\":\"\",\"zerolinecolor\":\"white\"}},\"shapedefaults\":{\"line\":{\"color\":\"#2a3f5f\"}},\"ternary\":{\"aaxis\":{\"gridcolor\":\"white\",\"linecolor\":\"white\",\"ticks\":\"\"},\"baxis\":{\"gridcolor\":\"white\",\"linecolor\":\"white\",\"ticks\":\"\"},\"bgcolor\":\"#E5ECF6\",\"caxis\":{\"gridcolor\":\"white\",\"linecolor\":\"white\",\"ticks\":\"\"}},\"title\":{\"x\":0.05},\"xaxis\":{\"automargin\":true,\"gridcolor\":\"white\",\"linecolor\":\"white\",\"ticks\":\"\",\"title\":{\"standoff\":15},\"zerolinecolor\":\"white\",\"zerolinewidth\":2},\"yaxis\":{\"automargin\":true,\"gridcolor\":\"white\",\"linecolor\":\"white\",\"ticks\":\"\",\"title\":{\"standoff\":15},\"zerolinecolor\":\"white\",\"zerolinewidth\":2}}},\"width\":800},                        {\"responsive\": true}                    ).then(function(){\n",
       "                            \n",
       "var gd = document.getElementById('550cd8a8-6a10-46b8-8b4f-931445e0964b');\n",
       "var x = new MutationObserver(function (mutations, observer) {{\n",
       "        var display = window.getComputedStyle(gd).display;\n",
       "        if (!display || display === 'none') {{\n",
       "            console.log([gd, 'removed!']);\n",
       "            Plotly.purge(gd);\n",
       "            observer.disconnect();\n",
       "        }}\n",
       "}});\n",
       "\n",
       "// Listen for the removal of the full notebook cells\n",
       "var notebookContainer = gd.closest('#notebook-container');\n",
       "if (notebookContainer) {{\n",
       "    x.observe(notebookContainer, {childList: true});\n",
       "}}\n",
       "\n",
       "// Listen for the clearing of the current output cell\n",
       "var outputEl = gd.closest('.output');\n",
       "if (outputEl) {{\n",
       "    x.observe(outputEl, {childList: true});\n",
       "}}\n",
       "\n",
       "                        })                };                });            </script>        </div>"
      ]
     },
     "metadata": {},
     "output_type": "display_data"
    }
   ],
   "source": [
    "fig = px.scatter_3d(\n",
    "    df_shopping,\n",
    "    x=\"AnnualIncome\",\n",
    "    y=\"SpendingScore\",\n",
    "    z=\"Age\",\n",
    "    color=\"class\",\n",
    "    symbol=\"class\",\n",
    "    width=800,\n",
    ")\n",
    "fig.update_layout(legend=dict(x=0, y=1))\n",
    "fig.show()"
   ]
  },
  {
   "cell_type": "code",
   "execution_count": null,
   "id": "743a4d2d",
   "metadata": {},
   "outputs": [],
   "source": []
  }
 ],
 "metadata": {
  "kernelspec": {
   "display_name": "Python 3",
   "language": "python",
   "name": "python3"
  },
  "language_info": {
   "codemirror_mode": {
    "name": "ipython",
    "version": 3
   },
   "file_extension": ".py",
   "mimetype": "text/x-python",
   "name": "python",
   "nbconvert_exporter": "python",
   "pygments_lexer": "ipython3",
   "version": "3.7.10"
  }
 },
 "nbformat": 4,
 "nbformat_minor": 5
}
